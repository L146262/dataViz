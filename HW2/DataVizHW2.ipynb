{
  "nbformat": 4,
  "nbformat_minor": 0,
  "metadata": {
    "colab": {
      "name": "DataVizHW2.ipynb",
      "provenance": [],
      "collapsed_sections": []
    },
    "kernelspec": {
      "name": "python3",
      "display_name": "Python 3"
    }
  },
  "cells": [
    {
      "cell_type": "code",
      "metadata": {
        "id": "ufD9rTc3QkhS",
        "colab_type": "code",
        "colab": {}
      },
      "source": [
        "import altair as alt\n",
        "import pandas as pd\n",
        "import numpy as np\n",
        "from IPython.display import Image"
      ],
      "execution_count": 0,
      "outputs": []
    },
    {
      "cell_type": "code",
      "metadata": {
        "id": "Fou6mnGmSRCJ",
        "colab_type": "code",
        "outputId": "73ec6c80-bc66-49d6-d7a0-482e804cf656",
        "colab": {
          "base_uri": "https://localhost:8080/",
          "height": 124
        }
      },
      "source": [
        "from google.colab import drive\n",
        "drive.mount('/content/drive')"
      ],
      "execution_count": 4,
      "outputs": [
        {
          "output_type": "stream",
          "text": [
            "Go to this URL in a browser: https://accounts.google.com/o/oauth2/auth?client_id=947318989803-6bn6qk8qdgf4n4g3pfee6491hc0brc4i.apps.googleusercontent.com&redirect_uri=urn%3aietf%3awg%3aoauth%3a2.0%3aoob&response_type=code&scope=email%20https%3a%2f%2fwww.googleapis.com%2fauth%2fdocs.test%20https%3a%2f%2fwww.googleapis.com%2fauth%2fdrive%20https%3a%2f%2fwww.googleapis.com%2fauth%2fdrive.photos.readonly%20https%3a%2f%2fwww.googleapis.com%2fauth%2fpeopleapi.readonly\n",
            "\n",
            "Enter your authorization code:\n",
            "··········\n",
            "Mounted at /content/drive\n"
          ],
          "name": "stdout"
        }
      ]
    },
    {
      "cell_type": "code",
      "metadata": {
        "id": "__hVbYa1SSmI",
        "colab_type": "code",
        "outputId": "5c72b339-3384-4108-fc90-b1802cf4b308",
        "colab": {
          "base_uri": "https://localhost:8080/",
          "height": 34
        }
      },
      "source": [
        "alt.data_transformers.enable('default', max_rows=None) "
      ],
      "execution_count": 5,
      "outputs": [
        {
          "output_type": "execute_result",
          "data": {
            "text/plain": [
              "DataTransformerRegistry.enable('default')"
            ]
          },
          "metadata": {
            "tags": []
          },
          "execution_count": 5
        }
      ]
    },
    {
      "cell_type": "markdown",
      "metadata": {
        "id": "RiqCF1fUSxGK",
        "colab_type": "text"
      },
      "source": [
        "Background - #F3F7F7\n",
        "Title - #3A3F4A, 36px\n",
        "Caption - #5D646F, 12px\n",
        "Axis text - #5D646F, 12 px\n",
        "Legend title & text - #5D646F, 12 px\n",
        "Font Family - Ubuntu Mono\n",
        "Color scale #67001f, #f7f7f7, #053061"
      ]
    },
    {
      "cell_type": "code",
      "metadata": {
        "id": "2fQAulvkSyFA",
        "colab_type": "code",
        "colab": {}
      },
      "source": [
        "background_color = '#F3F7F7'\n",
        "title_color = '#3A3F4A'\n",
        "title_size = 36\n",
        "\n",
        "caption_color = '#5D646F'\n",
        "caption_size = 12\n",
        "axis_text_color = '#5D646F'\n",
        "axis_text_size = 12\n",
        "legend_title_and_text_color = '#5D646F'\n",
        "legend_title_and_text_size = 12\n",
        "\n",
        "font_family = 'Ubuntu Mono'\n",
        "color_scale = ['#67001f', '#f7f7f7', '#053061']"
      ],
      "execution_count": 0,
      "outputs": []
    },
    {
      "cell_type": "code",
      "metadata": {
        "id": "nbyrWf1oTjFx",
        "colab_type": "code",
        "outputId": "32b2dc95-f6c7-4792-d94e-91e5f137e0ec",
        "colab": {
          "base_uri": "https://localhost:8080/",
          "height": 206
        }
      },
      "source": [
        "df = pd.read_csv('/content/drive/My Drive/rate.csv')\n",
        "df.head()"
      ],
      "execution_count": 7,
      "outputs": [
        {
          "output_type": "execute_result",
          "data": {
            "text/html": [
              "<div>\n",
              "<style scoped>\n",
              "    .dataframe tbody tr th:only-of-type {\n",
              "        vertical-align: middle;\n",
              "    }\n",
              "\n",
              "    .dataframe tbody tr th {\n",
              "        vertical-align: top;\n",
              "    }\n",
              "\n",
              "    .dataframe thead th {\n",
              "        text-align: right;\n",
              "    }\n",
              "</style>\n",
              "<table border=\"1\" class=\"dataframe\">\n",
              "  <thead>\n",
              "    <tr style=\"text-align: right;\">\n",
              "      <th></th>\n",
              "      <th>region</th>\n",
              "      <th>year</th>\n",
              "      <th>rate</th>\n",
              "    </tr>\n",
              "  </thead>\n",
              "  <tbody>\n",
              "    <tr>\n",
              "      <th>0</th>\n",
              "      <td>Crimea</td>\n",
              "      <td>1990</td>\n",
              "      <td>2.5</td>\n",
              "    </tr>\n",
              "    <tr>\n",
              "      <th>1</th>\n",
              "      <td>Vinnytsia</td>\n",
              "      <td>1990</td>\n",
              "      <td>-2.1</td>\n",
              "    </tr>\n",
              "    <tr>\n",
              "      <th>2</th>\n",
              "      <td>Volyn</td>\n",
              "      <td>1990</td>\n",
              "      <td>4.0</td>\n",
              "    </tr>\n",
              "    <tr>\n",
              "      <th>3</th>\n",
              "      <td>Dnipropetrovsk</td>\n",
              "      <td>1990</td>\n",
              "      <td>0.5</td>\n",
              "    </tr>\n",
              "    <tr>\n",
              "      <th>4</th>\n",
              "      <td>Donetsk</td>\n",
              "      <td>1990</td>\n",
              "      <td>-1.2</td>\n",
              "    </tr>\n",
              "  </tbody>\n",
              "</table>\n",
              "</div>"
            ],
            "text/plain": [
              "           region  year  rate\n",
              "0          Crimea  1990   2.5\n",
              "1       Vinnytsia  1990  -2.1\n",
              "2           Volyn  1990   4.0\n",
              "3  Dnipropetrovsk  1990   0.5\n",
              "4         Donetsk  1990  -1.2"
            ]
          },
          "metadata": {
            "tags": []
          },
          "execution_count": 7
        }
      ]
    },
    {
      "cell_type": "code",
      "metadata": {
        "id": "x7ZS6GKMUzxm",
        "colab_type": "code",
        "outputId": "03195882-85c7-44c3-8658-4ea022d929e8",
        "colab": {
          "base_uri": "https://localhost:8080/",
          "height": 704
        }
      },
      "source": [
        "chart = alt.Chart(df,width=800, height=450).mark_rect().encode(\n",
        "    alt.X('year:O', axis = alt.Axis(\n",
        "        values=[str(y) for y in df.year.unique()[::5]],\n",
        "        title = None, \n",
        "        orient='top',\n",
        "        domain = False),\n",
        "        ),\n",
        "    alt.Y('region:N',\n",
        "          sort=alt.EncodingSortField(\n",
        "            field=\"rate\",\n",
        "            op=\"sum\",\n",
        "            order=\"descending\"), \n",
        "          axis = alt.Axis(\n",
        "              title = None, \n",
        "              orient='right',\n",
        "              domain = False\n",
        "              ),\n",
        "          ),\n",
        "    fill = alt.Color('rate', legend=None,\n",
        "              scale=alt.Scale(domain=[-15, 15], range = color_scale)\n",
        "              ), \n",
        "    stroke=alt.Color('rate', legend=None,\n",
        "              scale=alt.Scale(domain=[-15, 15], range = color_scale)\n",
        "              ), \n",
        ")\n",
        "\n",
        "legend = alt.Chart(pd.DataFrame({'rate': list(range(-15,9))}),width=785, height=7,).mark_rect().encode(\n",
        "    alt.X('rate:O', axis = alt.Axis(\n",
        "        title = \"population growth rate, per 1000\", \n",
        "        titleAnchor = 'start',\n",
        "        titleFontSize = caption_size,\n",
        "        titleColor = caption_color,\n",
        "        titleFont=font_family,\n",
        "        titleOpacity = 0.8,\n",
        "        titleY = -25,\n",
        "        titleX = -1,\n",
        "        values = [-15, -8, 0, 8],\n",
        "        ticks=False),\n",
        "    ),\n",
        "    fill = alt.Color('rate', \n",
        "                     scale=alt.Scale(domain=[-15, 15], range = color_scale), \n",
        "                     legend=None\n",
        "              ), \n",
        "    stroke=alt.Color('rate',\n",
        "                     scale=alt.Scale(domain=[-15, 15], range = color_scale), \n",
        "                     legend=None\n",
        "              ), \n",
        ")\n",
        "\n",
        "lower_subtitle = alt.Chart(\n",
        "    {\"values\": [{\"text\": \"Data: State Statistics Service of Ukraine\"}]}\n",
        ").mark_text(size=caption_size, align='left', font = font_family, color = caption_color, dx = 545, dy= -3, opacity=0.8).encode(\n",
        "    text=\"text:N\"\n",
        ")\n",
        "\n",
        "(legend & chart & lower_subtitle).properties(background = background_color,\n",
        "                title = 'Population growth rate by region',\n",
        "                padding={'top': 40, 'left': 45, 'right': 60, 'bottom':30},\n",
        ").configure_axis(labelAngle=0,\n",
        "        grid= False, \n",
        "        ticks=False, \n",
        "        domain=False,\n",
        "        labelPadding=5,\n",
        "        labelFont= font_family,\n",
        "        labelColor=axis_text_color,\n",
        "        labelFontSize=axis_text_size,\n",
        "        labelOpacity=0.8,\n",
        ").configure_view(\n",
        "    stroke=None,\n",
        "    # strokeWidth = 10,\n",
        ").configure_title(\n",
        "    fontSize=title_size,\n",
        "    font=font_family,\n",
        "    anchor='start',\n",
        "    color=title_color,\n",
        ")"
      ],
      "execution_count": 8,
      "outputs": [
        {
          "output_type": "execute_result",
          "data": {
            "text/plain": [
              "alt.VConcatChart(...)"
            ],
            "text/html": [
              "\n",
              "<div id=\"altair-viz-997004571934473b9e8a5bae5785b661\"></div>\n",
              "<script type=\"text/javascript\">\n",
              "  (function(spec, embedOpt){\n",
              "    const outputDiv = document.getElementById(\"altair-viz-997004571934473b9e8a5bae5785b661\");\n",
              "    const paths = {\n",
              "      \"vega\": \"https://cdn.jsdelivr.net/npm//vega@5?noext\",\n",
              "      \"vega-lib\": \"https://cdn.jsdelivr.net/npm//vega-lib?noext\",\n",
              "      \"vega-lite\": \"https://cdn.jsdelivr.net/npm//vega-lite@4.0.2?noext\",\n",
              "      \"vega-embed\": \"https://cdn.jsdelivr.net/npm//vega-embed@6?noext\",\n",
              "    };\n",
              "\n",
              "    function loadScript(lib) {\n",
              "      return new Promise(function(resolve, reject) {\n",
              "        var s = document.createElement('script');\n",
              "        s.src = paths[lib];\n",
              "        s.async = true;\n",
              "        s.onload = () => resolve(paths[lib]);\n",
              "        s.onerror = () => reject(`Error loading script: ${paths[lib]}`);\n",
              "        document.getElementsByTagName(\"head\")[0].appendChild(s);\n",
              "      });\n",
              "    }\n",
              "\n",
              "    function showError(err) {\n",
              "      outputDiv.innerHTML = `<div class=\"error\" style=\"color:red;\">${err}</div>`;\n",
              "      throw err;\n",
              "    }\n",
              "\n",
              "    function displayChart(vegaEmbed) {\n",
              "      vegaEmbed(outputDiv, spec, embedOpt)\n",
              "        .catch(err => showError(`Javascript Error: ${err.message}<br>This usually means there's a typo in your chart specification. See the javascript console for the full traceback.`));\n",
              "    }\n",
              "\n",
              "    if(typeof define === \"function\" && define.amd) {\n",
              "      requirejs.config({paths});\n",
              "      require([\"vega-embed\"], displayChart, err => showError(`Error loading script: ${err.message}`));\n",
              "    } else if (typeof vegaEmbed === \"function\") {\n",
              "      displayChart(vegaEmbed);\n",
              "    } else {\n",
              "      loadScript(\"vega\")\n",
              "        .then(() => loadScript(\"vega-lite\"))\n",
              "        .then(() => loadScript(\"vega-embed\"))\n",
              "        .catch(showError)\n",
              "        .then(() => displayChart(vegaEmbed));\n",
              "    }\n",
              "  })({\"config\": {\"view\": {\"continuousWidth\": 400, \"continuousHeight\": 300, \"stroke\": null}, \"axis\": {\"domain\": false, \"grid\": false, \"labelAngle\": 0, \"labelColor\": \"#5D646F\", \"labelFont\": \"Ubuntu Mono\", \"labelFontSize\": 12, \"labelOpacity\": 0.8, \"labelPadding\": 5, \"ticks\": false}, \"title\": {\"anchor\": \"start\", \"color\": \"#3A3F4A\", \"font\": \"Ubuntu Mono\", \"fontSize\": 36}}, \"vconcat\": [{\"data\": {\"name\": \"data-05d4a6ef4c89991e31f386c79967b797\"}, \"mark\": \"rect\", \"encoding\": {\"fill\": {\"type\": \"quantitative\", \"field\": \"rate\", \"legend\": null, \"scale\": {\"domain\": [-15, 15], \"range\": [\"#67001f\", \"#f7f7f7\", \"#053061\"]}}, \"stroke\": {\"type\": \"quantitative\", \"field\": \"rate\", \"legend\": null, \"scale\": {\"domain\": [-15, 15], \"range\": [\"#67001f\", \"#f7f7f7\", \"#053061\"]}}, \"x\": {\"type\": \"ordinal\", \"axis\": {\"ticks\": false, \"title\": \"population growth rate, per 1000\", \"titleAnchor\": \"start\", \"titleColor\": \"#5D646F\", \"titleFont\": \"Ubuntu Mono\", \"titleFontSize\": 12, \"titleOpacity\": 0.8, \"titleX\": -1, \"titleY\": -25, \"values\": [-15, -8, 0, 8]}, \"field\": \"rate\"}}, \"height\": 7, \"width\": 785}, {\"data\": {\"name\": \"data-49387c7f8ca2f04ed173ccbbec0aa09c\"}, \"mark\": \"rect\", \"encoding\": {\"fill\": {\"type\": \"quantitative\", \"field\": \"rate\", \"legend\": null, \"scale\": {\"domain\": [-15, 15], \"range\": [\"#67001f\", \"#f7f7f7\", \"#053061\"]}}, \"stroke\": {\"type\": \"quantitative\", \"field\": \"rate\", \"legend\": null, \"scale\": {\"domain\": [-15, 15], \"range\": [\"#67001f\", \"#f7f7f7\", \"#053061\"]}}, \"x\": {\"type\": \"ordinal\", \"axis\": {\"domain\": false, \"orient\": \"top\", \"title\": null, \"values\": [\"1990\", \"1995\", \"2000\", \"2005\", \"2010\", \"2015\"]}, \"field\": \"year\"}, \"y\": {\"type\": \"nominal\", \"axis\": {\"domain\": false, \"orient\": \"right\", \"title\": null}, \"field\": \"region\", \"sort\": {\"field\": \"rate\", \"op\": \"sum\", \"order\": \"descending\"}}}, \"height\": 450, \"width\": 800}, {\"data\": {\"name\": \"data-396c9da51418044f3acb603e164a008e\"}, \"mark\": {\"type\": \"text\", \"align\": \"left\", \"color\": \"#5D646F\", \"dx\": 545, \"dy\": -3, \"font\": \"Ubuntu Mono\", \"opacity\": 0.8, \"size\": 12}, \"encoding\": {\"text\": {\"type\": \"nominal\", \"field\": \"text\"}}}], \"background\": \"#F3F7F7\", \"padding\": {\"top\": 40, \"left\": 45, \"right\": 60, \"bottom\": 30}, \"title\": \"Population growth rate by region\", \"$schema\": \"https://vega.github.io/schema/vega-lite/v4.0.2.json\", \"datasets\": {\"data-05d4a6ef4c89991e31f386c79967b797\": [{\"rate\": -15}, {\"rate\": -14}, {\"rate\": -13}, {\"rate\": -12}, {\"rate\": -11}, {\"rate\": -10}, {\"rate\": -9}, {\"rate\": -8}, {\"rate\": -7}, {\"rate\": -6}, {\"rate\": -5}, {\"rate\": -4}, {\"rate\": -3}, {\"rate\": -2}, {\"rate\": -1}, {\"rate\": 0}, {\"rate\": 1}, {\"rate\": 2}, {\"rate\": 3}, {\"rate\": 4}, {\"rate\": 5}, {\"rate\": 6}, {\"rate\": 7}, {\"rate\": 8}], \"data-49387c7f8ca2f04ed173ccbbec0aa09c\": [{\"region\": \"Crimea\", \"year\": 1990, \"rate\": 2.5}, {\"region\": \"Vinnytsia\", \"year\": 1990, \"rate\": -2.1}, {\"region\": \"Volyn\", \"year\": 1990, \"rate\": 4.0}, {\"region\": \"Dnipropetrovsk\", \"year\": 1990, \"rate\": 0.5}, {\"region\": \"Donetsk\", \"year\": 1990, \"rate\": -1.2}, {\"region\": \"Zhytomyr\", \"year\": 1990, \"rate\": -0.3}, {\"region\": \"Zakarpattia\", \"year\": 1990, \"rate\": 7.5}, {\"region\": \"Zaporizhia\", \"year\": 1990, \"rate\": 0.5}, {\"region\": \"Ivano-Frankivsk\", \"year\": 1990, \"rate\": 5.1}, {\"region\": \"Kyiv\", \"year\": 1990, \"rate\": -0.7}, {\"region\": \"Kirovohrad\", \"year\": 1990, \"rate\": -1.9}, {\"region\": \"Luhansk\", \"year\": 1990, \"rate\": -0.6}, {\"region\": \"Lviv\", \"year\": 1990, \"rate\": 3.6}, {\"region\": \"Mykolaiv\", \"year\": 1990, \"rate\": 1.7}, {\"region\": \"Odesa\", \"year\": 1990, \"rate\": 0.2}, {\"region\": \"Poltava\", \"year\": 1990, \"rate\": -2.5}, {\"region\": \"Rivne\", \"year\": 1990, \"rate\": 5.2}, {\"region\": \"Sumy\", \"year\": 1990, \"rate\": -3.1}, {\"region\": \"Ternopil\", \"year\": 1990, \"rate\": 1.4}, {\"region\": \"Kharkiv\", \"year\": 1990, \"rate\": -1.4}, {\"region\": \"Kherson\", \"year\": 1990, \"rate\": 2.7}, {\"region\": \"Khmelnytskyi\", \"year\": 1990, \"rate\": -0.6}, {\"region\": \"Cherkasy\", \"year\": 1990, \"rate\": -2.1}, {\"region\": \"Chernivtsi\", \"year\": 1990, \"rate\": 3.8}, {\"region\": \"Chernihiv\", \"year\": 1990, \"rate\": -4.0}, {\"region\": \"Kyiv city\", \"year\": 1990, \"rate\": 3.4}, {\"region\": \"Sevastopol\", \"year\": 1990, \"rate\": 3.2}, {\"region\": \"Crimea\", \"year\": 1991, \"rate\": 0.9}, {\"region\": \"Vinnytsia\", \"year\": 1991, \"rate\": -3.2}, {\"region\": \"Volyn\", \"year\": 1991, \"rate\": 2.0}, {\"region\": \"Dnipropetrovsk\", \"year\": 1991, \"rate\": -0.8}, {\"region\": \"Donetsk\", \"year\": 1991, \"rate\": -2.5}, {\"region\": \"Zhytomyr\", \"year\": 1991, \"rate\": -1.0}, {\"region\": \"Zakarpattia\", \"year\": 1991, \"rate\": 6.4}, {\"region\": \"Zaporizhia\", \"year\": 1991, \"rate\": -0.7}, {\"region\": \"Ivano-Frankivsk\", \"year\": 1991, \"rate\": 3.7}, {\"region\": \"Kyiv\", \"year\": 1991, \"rate\": -2.4}, {\"region\": \"Kirovohrad\", \"year\": 1991, \"rate\": -2.8}, {\"region\": \"Luhansk\", \"year\": 1991, \"rate\": -1.7}, {\"region\": \"Lviv\", \"year\": 1991, \"rate\": 2.4}, {\"region\": \"Mykolaiv\", \"year\": 1991, \"rate\": 0.2}, {\"region\": \"Odesa\", \"year\": 1991, \"rate\": -1.2}, {\"region\": \"Poltava\", \"year\": 1991, \"rate\": -3.4}, {\"region\": \"Rivne\", \"year\": 1991, \"rate\": 3.9}, {\"region\": \"Sumy\", \"year\": 1991, \"rate\": -4.0}, {\"region\": \"Ternopil\", \"year\": 1991, \"rate\": 0.4}, {\"region\": \"Kharkiv\", \"year\": 1991, \"rate\": -2.9}, {\"region\": \"Kherson\", \"year\": 1991, \"rate\": 1.5}, {\"region\": \"Khmelnytskyi\", \"year\": 1991, \"rate\": -1.7}, {\"region\": \"Cherkasy\", \"year\": 1991, \"rate\": -3.3}, {\"region\": \"Chernivtsi\", \"year\": 1991, \"rate\": 2.9}, {\"region\": \"Chernihiv\", \"year\": 1991, \"rate\": -5.7}, {\"region\": \"Kyiv city\", \"year\": 1991, \"rate\": 1.8}, {\"region\": \"Sevastopol\", \"year\": 1991, \"rate\": 1.7}, {\"region\": \"Crimea\", \"year\": 1992, \"rate\": -0.7}, {\"region\": \"Vinnytsia\", \"year\": 1992, \"rate\": -3.7}, {\"region\": \"Volyn\", \"year\": 1992, \"rate\": 2.4}, {\"region\": \"Dnipropetrovsk\", \"year\": 1992, \"rate\": -2.7}, {\"region\": \"Donetsk\", \"year\": 1992, \"rate\": -4.3}, {\"region\": \"Zhytomyr\", \"year\": 1992, \"rate\": -1.7}, {\"region\": \"Zakarpattia\", \"year\": 1992, \"rate\": 5.8}, {\"region\": \"Zaporizhia\", \"year\": 1992, \"rate\": -2.5}, {\"region\": \"Ivano-Frankivsk\", \"year\": 1992, \"rate\": 3.1}, {\"region\": \"Kyiv\", \"year\": 1992, \"rate\": -3.4}, {\"region\": \"Kirovohrad\", \"year\": 1992, \"rate\": -3.8}, {\"region\": \"Luhansk\", \"year\": 1992, \"rate\": -4.0}, {\"region\": \"Lviv\", \"year\": 1992, \"rate\": 2.0}, {\"region\": \"Mykolaiv\", \"year\": 1992, \"rate\": -0.8}, {\"region\": \"Odesa\", \"year\": 1992, \"rate\": -1.9}, {\"region\": \"Poltava\", \"year\": 1992, \"rate\": -4.9}, {\"region\": \"Rivne\", \"year\": 1992, \"rate\": 3.5}, {\"region\": \"Sumy\", \"year\": 1992, \"rate\": -5.3}, {\"region\": \"Ternopil\", \"year\": 1992, \"rate\": -0.1}, {\"region\": \"Kharkiv\", \"year\": 1992, \"rate\": -4.1}, {\"region\": \"Kherson\", \"year\": 1992, \"rate\": 0.5}, {\"region\": \"Khmelnytskyi\", \"year\": 1992, \"rate\": -2.2}, {\"region\": \"Cherkasy\", \"year\": 1992, \"rate\": -4.1}, {\"region\": \"Chernivtsi\", \"year\": 1992, \"rate\": 2.0}, {\"region\": \"Chernihiv\", \"year\": 1992, \"rate\": -6.7}, {\"region\": \"Kyiv city\", \"year\": 1992, \"rate\": 0.2}, {\"region\": \"Sevastopol\", \"year\": 1992, \"rate\": -0.7}, {\"region\": \"Crimea\", \"year\": 1993, \"rate\": -2.7}, {\"region\": \"Vinnytsia\", \"year\": 1993, \"rate\": -5.4}, {\"region\": \"Volyn\", \"year\": 1993, \"rate\": 1.4}, {\"region\": \"Dnipropetrovsk\", \"year\": 1993, \"rate\": -4.4}, {\"region\": \"Donetsk\", \"year\": 1993, \"rate\": -6.2}, {\"region\": \"Zhytomyr\", \"year\": 1993, \"rate\": -2.8}, {\"region\": \"Zakarpattia\", \"year\": 1993, \"rate\": 4.4}, {\"region\": \"Zaporizhia\", \"year\": 1993, \"rate\": -4.1}, {\"region\": \"Ivano-Frankivsk\", \"year\": 1993, \"rate\": 2.4}, {\"region\": \"Kyiv\", \"year\": 1993, \"rate\": -5.1}, {\"region\": \"Kirovohrad\", \"year\": 1993, \"rate\": -5.6}, {\"region\": \"Luhansk\", \"year\": 1993, \"rate\": -5.9}, {\"region\": \"Lviv\", \"year\": 1993, \"rate\": 1.1}, {\"region\": \"Mykolaiv\", \"year\": 1993, \"rate\": -2.4}, {\"region\": \"Odesa\", \"year\": 1993, \"rate\": -3.2}, {\"region\": \"Poltava\", \"year\": 1993, \"rate\": -6.7}, {\"region\": \"Rivne\", \"year\": 1993, \"rate\": 3.1}, {\"region\": \"Sumy\", \"year\": 1993, \"rate\": -7.5}, {\"region\": \"Ternopil\", \"year\": 1993, \"rate\": -1.2}, {\"region\": \"Kharkiv\", \"year\": 1993, \"rate\": -6.2}, {\"region\": \"Kherson\", \"year\": 1993, \"rate\": -1.2}, {\"region\": \"Khmelnytskyi\", \"year\": 1993, \"rate\": -3.6}, {\"region\": \"Cherkasy\", \"year\": 1993, \"rate\": -6.2}, {\"region\": \"Chernivtsi\", \"year\": 1993, \"rate\": 0.9}, {\"region\": \"Chernihiv\", \"year\": 1993, \"rate\": -8.5}, {\"region\": \"Kyiv city\", \"year\": 1993, \"rate\": -1.7}, {\"region\": \"Sevastopol\", \"year\": 1993, \"rate\": -2.7}, {\"region\": \"Crimea\", \"year\": 1994, \"rate\": -4.3}, {\"region\": \"Vinnytsia\", \"year\": 1994, \"rate\": -6.2}, {\"region\": \"Volyn\", \"year\": 1994, \"rate\": 0.2}, {\"region\": \"Dnipropetrovsk\", \"year\": 1994, \"rate\": -5.8}, {\"region\": \"Donetsk\", \"year\": 1994, \"rate\": -7.5}, {\"region\": \"Zhytomyr\", \"year\": 1994, \"rate\": -4.0}, {\"region\": \"Zakarpattia\", \"year\": 1994, \"rate\": 2.9}, {\"region\": \"Zaporizhia\", \"year\": 1994, \"rate\": -5.2}, {\"region\": \"Ivano-Frankivsk\", \"year\": 1994, \"rate\": 1.5}, {\"region\": \"Kyiv\", \"year\": 1994, \"rate\": -5.9}, {\"region\": \"Kirovohrad\", \"year\": 1994, \"rate\": -6.4}, {\"region\": \"Luhansk\", \"year\": 1994, \"rate\": -7.5}, {\"region\": \"Lviv\", \"year\": 1994, \"rate\": 0.0}, {\"region\": \"Mykolaiv\", \"year\": 1994, \"rate\": -3.7}, {\"region\": \"Odesa\", \"year\": 1994, \"rate\": -4.7}, {\"region\": \"Poltava\", \"year\": 1994, \"rate\": -7.6}, {\"region\": \"Rivne\", \"year\": 1994, \"rate\": 2.1}, {\"region\": \"Sumy\", \"year\": 1994, \"rate\": -8.1}, {\"region\": \"Ternopil\", \"year\": 1994, \"rate\": -1.7}, {\"region\": \"Kharkiv\", \"year\": 1994, \"rate\": -7.6}, {\"region\": \"Kherson\", \"year\": 1994, \"rate\": -2.7}, {\"region\": \"Khmelnytskyi\", \"year\": 1994, \"rate\": -4.4}, {\"region\": \"Cherkasy\", \"year\": 1994, \"rate\": -6.7}, {\"region\": \"Chernivtsi\", \"year\": 1994, \"rate\": 0.3}, {\"region\": \"Chernihiv\", \"year\": 1994, \"rate\": -9.9}, {\"region\": \"Kyiv city\", \"year\": 1994, \"rate\": -2.7}, {\"region\": \"Sevastopol\", \"year\": 1994, \"rate\": -4.4}, {\"region\": \"Crimea\", \"year\": 1995, \"rate\": -5.8}, {\"region\": \"Vinnytsia\", \"year\": 1995, \"rate\": -6.7}, {\"region\": \"Volyn\", \"year\": 1995, \"rate\": -1.1}, {\"region\": \"Dnipropetrovsk\", \"year\": 1995, \"rate\": -7.2}, {\"region\": \"Donetsk\", \"year\": 1995, \"rate\": -9.7}, {\"region\": \"Zhytomyr\", \"year\": 1995, \"rate\": -4.9}, {\"region\": \"Zakarpattia\", \"year\": 1995, \"rate\": 1.8}, {\"region\": \"Zaporizhia\", \"year\": 1995, \"rate\": -6.9}, {\"region\": \"Ivano-Frankivsk\", \"year\": 1995, \"rate\": 0.8}, {\"region\": \"Kyiv\", \"year\": 1995, \"rate\": -6.9}, {\"region\": \"Kirovohrad\", \"year\": 1995, \"rate\": -7.7}, {\"region\": \"Luhansk\", \"year\": 1995, \"rate\": -9.0}, {\"region\": \"Lviv\", \"year\": 1995, \"rate\": -0.8}, {\"region\": \"Mykolaiv\", \"year\": 1995, \"rate\": -4.9}, {\"region\": \"Odesa\", \"year\": 1995, \"rate\": -6.1}, {\"region\": \"Poltava\", \"year\": 1995, \"rate\": -8.1}, {\"region\": \"Rivne\", \"year\": 1995, \"rate\": 1.0}, {\"region\": \"Sumy\", \"year\": 1995, \"rate\": -8.2}, {\"region\": \"Ternopil\", \"year\": 1995, \"rate\": -1.7}, {\"region\": \"Kharkiv\", \"year\": 1995, \"rate\": -8.5}, {\"region\": \"Kherson\", \"year\": 1995, \"rate\": -4.3}, {\"region\": \"Khmelnytskyi\", \"year\": 1995, \"rate\": -4.8}, {\"region\": \"Cherkasy\", \"year\": 1995, \"rate\": -7.5}, {\"region\": \"Chernivtsi\", \"year\": 1995, \"rate\": -0.3}, {\"region\": \"Chernihiv\", \"year\": 1995, \"rate\": -10.7}, {\"region\": \"Kyiv city\", \"year\": 1995, \"rate\": -3.5}, {\"region\": \"Sevastopol\", \"year\": 1995, \"rate\": -6.9}, {\"region\": \"Crimea\", \"year\": 1996, \"rate\": -5.8}, {\"region\": \"Vinnytsia\", \"year\": 1996, \"rate\": -7.0}, {\"region\": \"Volyn\", \"year\": 1996, \"rate\": -1.0}, {\"region\": \"Dnipropetrovsk\", \"year\": 1996, \"rate\": -7.8}, {\"region\": \"Donetsk\", \"year\": 1996, \"rate\": -9.8}, {\"region\": \"Zhytomyr\", \"year\": 1996, \"rate\": -5.4}, {\"region\": \"Zakarpattia\", \"year\": 1996, \"rate\": 1.7}, {\"region\": \"Zaporizhia\", \"year\": 1996, \"rate\": -7.0}, {\"region\": \"Ivano-Frankivsk\", \"year\": 1996, \"rate\": 0.3}, {\"region\": \"Kyiv\", \"year\": 1996, \"rate\": -6.9}, {\"region\": \"Kirovohrad\", \"year\": 1996, \"rate\": -8.0}, {\"region\": \"Luhansk\", \"year\": 1996, \"rate\": -10.1}, {\"region\": \"Lviv\", \"year\": 1996, \"rate\": -1.1}, {\"region\": \"Mykolaiv\", \"year\": 1996, \"rate\": -5.5}, {\"region\": \"Odesa\", \"year\": 1996, \"rate\": -6.1}, {\"region\": \"Poltava\", \"year\": 1996, \"rate\": -8.3}, {\"region\": \"Rivne\", \"year\": 1996, \"rate\": 0.4}, {\"region\": \"Sumy\", \"year\": 1996, \"rate\": -9.1}, {\"region\": \"Ternopil\", \"year\": 1996, \"rate\": -2.4}, {\"region\": \"Kharkiv\", \"year\": 1996, \"rate\": -8.3}, {\"region\": \"Kherson\", \"year\": 1996, \"rate\": -5.0}, {\"region\": \"Khmelnytskyi\", \"year\": 1996, \"rate\": -5.3}, {\"region\": \"Cherkasy\", \"year\": 1996, \"rate\": -8.0}, {\"region\": \"Chernivtsi\", \"year\": 1996, \"rate\": -0.7}, {\"region\": \"Chernihiv\", \"year\": 1996, \"rate\": -10.6}, {\"region\": \"Kyiv city\", \"year\": 1996, \"rate\": -3.2}, {\"region\": \"Sevastopol\", \"year\": 1996, \"rate\": -5.6}, {\"region\": \"Crimea\", \"year\": 1997, \"rate\": -5.1}, {\"region\": \"Vinnytsia\", \"year\": 1997, \"rate\": -7.0}, {\"region\": \"Volyn\", \"year\": 1997, \"rate\": -1.5}, {\"region\": \"Dnipropetrovsk\", \"year\": 1997, \"rate\": -7.9}, {\"region\": \"Donetsk\", \"year\": 1997, \"rate\": -9.6}, {\"region\": \"Zhytomyr\", \"year\": 1997, \"rate\": -5.9}, {\"region\": \"Zakarpattia\", \"year\": 1997, \"rate\": 1.4}, {\"region\": \"Zaporizhia\", \"year\": 1997, \"rate\": -6.9}, {\"region\": \"Ivano-Frankivsk\", \"year\": 1997, \"rate\": -0.3}, {\"region\": \"Kyiv\", \"year\": 1997, \"rate\": -7.2}, {\"region\": \"Kirovohrad\", \"year\": 1997, \"rate\": -8.5}, {\"region\": \"Luhansk\", \"year\": 1997, \"rate\": -10.0}, {\"region\": \"Lviv\", \"year\": 1997, \"rate\": -1.9}, {\"region\": \"Mykolaiv\", \"year\": 1997, \"rate\": -5.6}, {\"region\": \"Odesa\", \"year\": 1997, \"rate\": -5.8}, {\"region\": \"Poltava\", \"year\": 1997, \"rate\": -9.1}, {\"region\": \"Rivne\", \"year\": 1997, \"rate\": 0.7}, {\"region\": \"Sumy\", \"year\": 1997, \"rate\": -9.4}, {\"region\": \"Ternopil\", \"year\": 1997, \"rate\": -3.3}, {\"region\": \"Kharkiv\", \"year\": 1997, \"rate\": -8.4}, {\"region\": \"Kherson\", \"year\": 1997, \"rate\": -4.6}, {\"region\": \"Khmelnytskyi\", \"year\": 1997, \"rate\": -6.2}, {\"region\": \"Cherkasy\", \"year\": 1997, \"rate\": -8.1}, {\"region\": \"Chernivtsi\", \"year\": 1997, \"rate\": -1.1}, {\"region\": \"Chernihiv\", \"year\": 1997, \"rate\": -10.7}, {\"region\": \"Kyiv city\", \"year\": 1997, \"rate\": -2.5}, {\"region\": \"Sevastopol\", \"year\": 1997, \"rate\": -4.8}, {\"region\": \"Crimea\", \"year\": 1998, \"rate\": -5.6}, {\"region\": \"Vinnytsia\", \"year\": 1998, \"rate\": -7.3}, {\"region\": \"Volyn\", \"year\": 1998, \"rate\": -1.3}, {\"region\": \"Dnipropetrovsk\", \"year\": 1998, \"rate\": -7.4}, {\"region\": \"Donetsk\", \"year\": 1998, \"rate\": -8.7}, {\"region\": \"Zhytomyr\", \"year\": 1998, \"rate\": -5.9}, {\"region\": \"Zakarpattia\", \"year\": 1998, \"rate\": 1.2}, {\"region\": \"Zaporizhia\", \"year\": 1998, \"rate\": -7.2}, {\"region\": \"Ivano-Frankivsk\", \"year\": 1998, \"rate\": -0.5}, {\"region\": \"Kyiv\", \"year\": 1998, \"rate\": -7.6}, {\"region\": \"Kirovohrad\", \"year\": 1998, \"rate\": -8.3}, {\"region\": \"Luhansk\", \"year\": 1998, \"rate\": -9.0}, {\"region\": \"Lviv\", \"year\": 1998, \"rate\": -1.5}, {\"region\": \"Mykolaiv\", \"year\": 1998, \"rate\": -6.4}, {\"region\": \"Odesa\", \"year\": 1998, \"rate\": -5.8}, {\"region\": \"Poltava\", \"year\": 1998, \"rate\": -8.4}, {\"region\": \"Rivne\", \"year\": 1998, \"rate\": 0.4}, {\"region\": \"Sumy\", \"year\": 1998, \"rate\": -9.2}, {\"region\": \"Ternopil\", \"year\": 1998, \"rate\": -3.0}, {\"region\": \"Kharkiv\", \"year\": 1998, \"rate\": -7.8}, {\"region\": \"Kherson\", \"year\": 1998, \"rate\": -5.3}, {\"region\": \"Khmelnytskyi\", \"year\": 1998, \"rate\": -6.0}, {\"region\": \"Cherkasy\", \"year\": 1998, \"rate\": -8.3}, {\"region\": \"Chernivtsi\", \"year\": 1998, \"rate\": -0.9}, {\"region\": \"Chernihiv\", \"year\": 1998, \"rate\": -10.8}, {\"region\": \"Kyiv city\", \"year\": 1998, \"rate\": -2.8}, {\"region\": \"Sevastopol\", \"year\": 1998, \"rate\": -5.5}, {\"region\": \"Crimea\", \"year\": 1999, \"rate\": -5.5}, {\"region\": \"Vinnytsia\", \"year\": 1999, \"rate\": -7.7}, {\"region\": \"Volyn\", \"year\": 1999, \"rate\": -2.7}, {\"region\": \"Dnipropetrovsk\", \"year\": 1999, \"rate\": -8.6}, {\"region\": \"Donetsk\", \"year\": 1999, \"rate\": -9.9}, {\"region\": \"Zhytomyr\", \"year\": 1999, \"rate\": -7.3}, {\"region\": \"Zakarpattia\", \"year\": 1999, \"rate\": -0.3}, {\"region\": \"Zaporizhia\", \"year\": 1999, \"rate\": -8.1}, {\"region\": \"Ivano-Frankivsk\", \"year\": 1999, \"rate\": -2.0}, {\"region\": \"Kyiv\", \"year\": 1999, \"rate\": -8.5}, {\"region\": \"Kirovohrad\", \"year\": 1999, \"rate\": -9.7}, {\"region\": \"Luhansk\", \"year\": 1999, \"rate\": -10.7}, {\"region\": \"Lviv\", \"year\": 1999, \"rate\": -3.3}, {\"region\": \"Mykolaiv\", \"year\": 1999, \"rate\": -7.0}, {\"region\": \"Odesa\", \"year\": 1999, \"rate\": -6.4}, {\"region\": \"Poltava\", \"year\": 1999, \"rate\": -9.9}, {\"region\": \"Rivne\", \"year\": 1999, \"rate\": -0.7}, {\"region\": \"Sumy\", \"year\": 1999, \"rate\": -10.3}, {\"region\": \"Ternopil\", \"year\": 1999, \"rate\": -4.7}, {\"region\": \"Kharkiv\", \"year\": 1999, \"rate\": -8.9}, {\"region\": \"Kherson\", \"year\": 1999, \"rate\": -6.3}, {\"region\": \"Khmelnytskyi\", \"year\": 1999, \"rate\": -6.5}, {\"region\": \"Cherkasy\", \"year\": 1999, \"rate\": -8.8}, {\"region\": \"Chernivtsi\", \"year\": 1999, \"rate\": -2.2}, {\"region\": \"Chernihiv\", \"year\": 1999, \"rate\": -12.2}, {\"region\": \"Kyiv city\", \"year\": 1999, \"rate\": -2.9}, {\"region\": \"Sevastopol\", \"year\": 1999, \"rate\": -5.6}, {\"region\": \"Crimea\", \"year\": 2000, \"rate\": -6.6}, {\"region\": \"Vinnytsia\", \"year\": 2000, \"rate\": -8.4}, {\"region\": \"Volyn\", \"year\": 2000, \"rate\": -2.8}, {\"region\": \"Dnipropetrovsk\", \"year\": 2000, \"rate\": -9.2}, {\"region\": \"Donetsk\", \"year\": 2000, \"rate\": -10.9}, {\"region\": \"Zhytomyr\", \"year\": 2000, \"rate\": -7.5}, {\"region\": \"Zakarpattia\", \"year\": 2000, \"rate\": 0.4}, {\"region\": \"Zaporizhia\", \"year\": 2000, \"rate\": -8.7}, {\"region\": \"Ivano-Frankivsk\", \"year\": 2000, \"rate\": -1.8}, {\"region\": \"Kyiv\", \"year\": 2000, \"rate\": -8.9}, {\"region\": \"Kirovohrad\", \"year\": 2000, \"rate\": -10.1}, {\"region\": \"Luhansk\", \"year\": 2000, \"rate\": -11.4}, {\"region\": \"Lviv\", \"year\": 2000, \"rate\": -3.3}, {\"region\": \"Mykolaiv\", \"year\": 2000, \"rate\": -7.7}, {\"region\": \"Odesa\", \"year\": 2000, \"rate\": -7.2}, {\"region\": \"Poltava\", \"year\": 2000, \"rate\": -10.9}, {\"region\": \"Rivne\", \"year\": 2000, \"rate\": -1.3}, {\"region\": \"Sumy\", \"year\": 2000, \"rate\": -11.1}, {\"region\": \"Ternopil\", \"year\": 2000, \"rate\": -4.4}, {\"region\": \"Kharkiv\", \"year\": 2000, \"rate\": -9.6}, {\"region\": \"Kherson\", \"year\": 2000, \"rate\": -7.0}, {\"region\": \"Khmelnytskyi\", \"year\": 2000, \"rate\": -7.1}, {\"region\": \"Cherkasy\", \"year\": 2000, \"rate\": -9.9}, {\"region\": \"Chernivtsi\", \"year\": 2000, \"rate\": -2.4}, {\"region\": \"Chernihiv\", \"year\": 2000, \"rate\": -12.9}, {\"region\": \"Kyiv city\", \"year\": 2000, \"rate\": -2.9}, {\"region\": \"Sevastopol\", \"year\": 2000, \"rate\": -6.3}, {\"region\": \"Crimea\", \"year\": 2001, \"rate\": -6.7}, {\"region\": \"Vinnytsia\", \"year\": 2001, \"rate\": -8.3}, {\"region\": \"Volyn\", \"year\": 2001, \"rate\": -3.1}, {\"region\": \"Dnipropetrovsk\", \"year\": 2001, \"rate\": -8.8}, {\"region\": \"Donetsk\", \"year\": 2001, \"rate\": -10.3}, {\"region\": \"Zhytomyr\", \"year\": 2001, \"rate\": -8.5}, {\"region\": \"Zakarpattia\", \"year\": 2001, \"rate\": -0.4}, {\"region\": \"Zaporizhia\", \"year\": 2001, \"rate\": -8.6}, {\"region\": \"Ivano-Frankivsk\", \"year\": 2001, \"rate\": -2.7}, {\"region\": \"Kyiv\", \"year\": 2001, \"rate\": -9.4}, {\"region\": \"Kirovohrad\", \"year\": 2001, \"rate\": -9.8}, {\"region\": \"Luhansk\", \"year\": 2001, \"rate\": -10.9}, {\"region\": \"Lviv\", \"year\": 2001, \"rate\": -3.7}, {\"region\": \"Mykolaiv\", \"year\": 2001, \"rate\": -7.5}, {\"region\": \"Odesa\", \"year\": 2001, \"rate\": -7.0}, {\"region\": \"Poltava\", \"year\": 2001, \"rate\": -11.1}, {\"region\": \"Rivne\", \"year\": 2001, \"rate\": -1.6}, {\"region\": \"Sumy\", \"year\": 2001, \"rate\": -11.2}, {\"region\": \"Ternopil\", \"year\": 2001, \"rate\": -5.4}, {\"region\": \"Kharkiv\", \"year\": 2001, \"rate\": -9.0}, {\"region\": \"Kherson\", \"year\": 2001, \"rate\": -7.3}, {\"region\": \"Khmelnytskyi\", \"year\": 2001, \"rate\": -7.7}, {\"region\": \"Cherkasy\", \"year\": 2001, \"rate\": -10.0}, {\"region\": \"Chernivtsi\", \"year\": 2001, \"rate\": -2.9}, {\"region\": \"Chernihiv\", \"year\": 2001, \"rate\": -13.1}, {\"region\": \"Kyiv city\", \"year\": 2001, \"rate\": -3.0}, {\"region\": \"Sevastopol\", \"year\": 2001, \"rate\": -6.1}, {\"region\": \"Crimea\", \"year\": 2002, \"rate\": -6.7}, {\"region\": \"Vinnytsia\", \"year\": 2002, \"rate\": -8.1}, {\"region\": \"Volyn\", \"year\": 2002, \"rate\": -3.0}, {\"region\": \"Dnipropetrovsk\", \"year\": 2002, \"rate\": -8.6}, {\"region\": \"Donetsk\", \"year\": 2002, \"rate\": -10.6}, {\"region\": \"Zhytomyr\", \"year\": 2002, \"rate\": -8.2}, {\"region\": \"Zakarpattia\", \"year\": 2002, \"rate\": -0.6}, {\"region\": \"Zaporizhia\", \"year\": 2002, \"rate\": -8.4}, {\"region\": \"Ivano-Frankivsk\", \"year\": 2002, \"rate\": -2.8}, {\"region\": \"Kyiv\", \"year\": 2002, \"rate\": -9.0}, {\"region\": \"Kirovohrad\", \"year\": 2002, \"rate\": -10.0}, {\"region\": \"Luhansk\", \"year\": 2002, \"rate\": -10.6}, {\"region\": \"Lviv\", \"year\": 2002, \"rate\": -3.8}, {\"region\": \"Mykolaiv\", \"year\": 2002, \"rate\": -8.1}, {\"region\": \"Odesa\", \"year\": 2002, \"rate\": -7.2}, {\"region\": \"Poltava\", \"year\": 2002, \"rate\": -11.0}, {\"region\": \"Rivne\", \"year\": 2002, \"rate\": -1.8}, {\"region\": \"Sumy\", \"year\": 2002, \"rate\": -11.3}, {\"region\": \"Ternopil\", \"year\": 2002, \"rate\": -5.2}, {\"region\": \"Kharkiv\", \"year\": 2002, \"rate\": -8.9}, {\"region\": \"Kherson\", \"year\": 2002, \"rate\": -7.3}, {\"region\": \"Khmelnytskyi\", \"year\": 2002, \"rate\": -7.7}, {\"region\": \"Cherkasy\", \"year\": 2002, \"rate\": -10.2}, {\"region\": \"Chernivtsi\", \"year\": 2002, \"rate\": -3.3}, {\"region\": \"Chernihiv\", \"year\": 2002, \"rate\": -13.0}, {\"region\": \"Kyiv city\", \"year\": 2002, \"rate\": -2.5}, {\"region\": \"Sevastopol\", \"year\": 2002, \"rate\": -5.6}, {\"region\": \"Crimea\", \"year\": 2003, \"rate\": -6.5}, {\"region\": \"Vinnytsia\", \"year\": 2003, \"rate\": -8.5}, {\"region\": \"Volyn\", \"year\": 2003, \"rate\": -3.4}, {\"region\": \"Dnipropetrovsk\", \"year\": 2003, \"rate\": -8.4}, {\"region\": \"Donetsk\", \"year\": 2003, \"rate\": -10.3}, {\"region\": \"Zhytomyr\", \"year\": 2003, \"rate\": -8.5}, {\"region\": \"Zakarpattia\", \"year\": 2003, \"rate\": -0.1}, {\"region\": \"Zaporizhia\", \"year\": 2003, \"rate\": -8.4}, {\"region\": \"Ivano-Frankivsk\", \"year\": 2003, \"rate\": -3.2}, {\"region\": \"Kyiv\", \"year\": 2003, \"rate\": -8.9}, {\"region\": \"Kirovohrad\", \"year\": 2003, \"rate\": -9.9}, {\"region\": \"Luhansk\", \"year\": 2003, \"rate\": -10.7}, {\"region\": \"Lviv\", \"year\": 2003, \"rate\": -3.8}, {\"region\": \"Mykolaiv\", \"year\": 2003, \"rate\": -7.6}, {\"region\": \"Odesa\", \"year\": 2003, \"rate\": -7.0}, {\"region\": \"Poltava\", \"year\": 2003, \"rate\": -11.2}, {\"region\": \"Rivne\", \"year\": 2003, \"rate\": -1.7}, {\"region\": \"Sumy\", \"year\": 2003, \"rate\": -11.3}, {\"region\": \"Ternopil\", \"year\": 2003, \"rate\": -5.6}, {\"region\": \"Kharkiv\", \"year\": 2003, \"rate\": -8.8}, {\"region\": \"Kherson\", \"year\": 2003, \"rate\": -6.7}, {\"region\": \"Khmelnytskyi\", \"year\": 2003, \"rate\": -7.9}, {\"region\": \"Cherkasy\", \"year\": 2003, \"rate\": -9.9}, {\"region\": \"Chernivtsi\", \"year\": 2003, \"rate\": -3.7}, {\"region\": \"Chernihiv\", \"year\": 2003, \"rate\": -13.2}, {\"region\": \"Kyiv city\", \"year\": 2003, \"rate\": -1.9}, {\"region\": \"Sevastopol\", \"year\": 2003, \"rate\": -5.4}, {\"region\": \"Crimea\", \"year\": 2004, \"rate\": -6.1}, {\"region\": \"Vinnytsia\", \"year\": 2004, \"rate\": -7.9}, {\"region\": \"Volyn\", \"year\": 2004, \"rate\": -2.6}, {\"region\": \"Dnipropetrovsk\", \"year\": 2004, \"rate\": -8.1}, {\"region\": \"Donetsk\", \"year\": 2004, \"rate\": -9.9}, {\"region\": \"Zhytomyr\", \"year\": 2004, \"rate\": -8.5}, {\"region\": \"Zakarpattia\", \"year\": 2004, \"rate\": 0.0}, {\"region\": \"Zaporizhia\", \"year\": 2004, \"rate\": -7.8}, {\"region\": \"Ivano-Frankivsk\", \"year\": 2004, \"rate\": -2.2}, {\"region\": \"Kyiv\", \"year\": 2004, \"rate\": -8.6}, {\"region\": \"Kirovohrad\", \"year\": 2004, \"rate\": -9.7}, {\"region\": \"Luhansk\", \"year\": 2004, \"rate\": -10.6}, {\"region\": \"Lviv\", \"year\": 2004, \"rate\": -3.0}, {\"region\": \"Mykolaiv\", \"year\": 2004, \"rate\": -7.3}, {\"region\": \"Odesa\", \"year\": 2004, \"rate\": -6.4}, {\"region\": \"Poltava\", \"year\": 2004, \"rate\": -10.9}, {\"region\": \"Rivne\", \"year\": 2004, \"rate\": -1.1}, {\"region\": \"Sumy\", \"year\": 2004, \"rate\": -11.5}, {\"region\": \"Ternopil\", \"year\": 2004, \"rate\": -4.5}, {\"region\": \"Kharkiv\", \"year\": 2004, \"rate\": -8.4}, {\"region\": \"Kherson\", \"year\": 2004, \"rate\": -6.4}, {\"region\": \"Khmelnytskyi\", \"year\": 2004, \"rate\": -7.4}, {\"region\": \"Cherkasy\", \"year\": 2004, \"rate\": -10.4}, {\"region\": \"Chernivtsi\", \"year\": 2004, \"rate\": -2.5}, {\"region\": \"Chernihiv\", \"year\": 2004, \"rate\": -13.2}, {\"region\": \"Kyiv city\", \"year\": 2004, \"rate\": -0.9}, {\"region\": \"Sevastopol\", \"year\": 2004, \"rate\": -4.8}, {\"region\": \"Crimea\", \"year\": 2005, \"rate\": -6.7}, {\"region\": \"Vinnytsia\", \"year\": 2005, \"rate\": -9.2}, {\"region\": \"Volyn\", \"year\": 2005, \"rate\": -3.2}, {\"region\": \"Dnipropetrovsk\", \"year\": 2005, \"rate\": -9.0}, {\"region\": \"Donetsk\", \"year\": 2005, \"rate\": -10.3}, {\"region\": \"Zhytomyr\", \"year\": 2005, \"rate\": -9.0}, {\"region\": \"Zakarpattia\", \"year\": 2005, \"rate\": -0.6}, {\"region\": \"Zaporizhia\", \"year\": 2005, \"rate\": -8.0}, {\"region\": \"Ivano-Frankivsk\", \"year\": 2005, \"rate\": -2.7}, {\"region\": \"Kyiv\", \"year\": 2005, \"rate\": -9.0}, {\"region\": \"Kirovohrad\", \"year\": 2005, \"rate\": -10.5}, {\"region\": \"Luhansk\", \"year\": 2005, \"rate\": -10.9}, {\"region\": \"Lviv\", \"year\": 2005, \"rate\": -3.6}, {\"region\": \"Mykolaiv\", \"year\": 2005, \"rate\": -7.7}, {\"region\": \"Odesa\", \"year\": 2005, \"rate\": -6.7}, {\"region\": \"Poltava\", \"year\": 2005, \"rate\": -11.2}, {\"region\": \"Rivne\", \"year\": 2005, \"rate\": -1.7}, {\"region\": \"Sumy\", \"year\": 2005, \"rate\": -12.1}, {\"region\": \"Ternopil\", \"year\": 2005, \"rate\": -5.2}, {\"region\": \"Kharkiv\", \"year\": 2005, \"rate\": -8.6}, {\"region\": \"Kherson\", \"year\": 2005, \"rate\": -7.2}, {\"region\": \"Khmelnytskyi\", \"year\": 2005, \"rate\": -8.4}, {\"region\": \"Cherkasy\", \"year\": 2005, \"rate\": -10.9}, {\"region\": \"Chernivtsi\", \"year\": 2005, \"rate\": -3.2}, {\"region\": \"Chernihiv\", \"year\": 2005, \"rate\": -14.1}, {\"region\": \"Kyiv city\", \"year\": 2005, \"rate\": -1.4}, {\"region\": \"Sevastopol\", \"year\": 2005, \"rate\": -5.8}, {\"region\": \"Crimea\", \"year\": 2006, \"rate\": -5.3}, {\"region\": \"Vinnytsia\", \"year\": 2006, \"rate\": -7.7}, {\"region\": \"Volyn\", \"year\": 2006, \"rate\": -1.8}, {\"region\": \"Dnipropetrovsk\", \"year\": 2006, \"rate\": -7.5}, {\"region\": \"Donetsk\", \"year\": 2006, \"rate\": -9.2}, {\"region\": \"Zhytomyr\", \"year\": 2006, \"rate\": -8.0}, {\"region\": \"Zakarpattia\", \"year\": 2006, \"rate\": 0.5}, {\"region\": \"Zaporizhia\", \"year\": 2006, \"rate\": -7.2}, {\"region\": \"Ivano-Frankivsk\", \"year\": 2006, \"rate\": -1.9}, {\"region\": \"Kyiv\", \"year\": 2006, \"rate\": -8.0}, {\"region\": \"Kirovohrad\", \"year\": 2006, \"rate\": -8.8}, {\"region\": \"Luhansk\", \"year\": 2006, \"rate\": -9.5}, {\"region\": \"Lviv\", \"year\": 2006, \"rate\": -2.9}, {\"region\": \"Mykolaiv\", \"year\": 2006, \"rate\": -6.2}, {\"region\": \"Odesa\", \"year\": 2006, \"rate\": -5.8}, {\"region\": \"Poltava\", \"year\": 2006, \"rate\": -9.3}, {\"region\": \"Rivne\", \"year\": 2006, \"rate\": -0.3}, {\"region\": \"Sumy\", \"year\": 2006, \"rate\": -10.1}, {\"region\": \"Ternopil\", \"year\": 2006, \"rate\": -4.4}, {\"region\": \"Kharkiv\", \"year\": 2006, \"rate\": -7.6}, {\"region\": \"Kherson\", \"year\": 2006, \"rate\": -5.7}, {\"region\": \"Khmelnytskyi\", \"year\": 2006, \"rate\": -7.3}, {\"region\": \"Cherkasy\", \"year\": 2006, \"rate\": -9.4}, {\"region\": \"Chernivtsi\", \"year\": 2006, \"rate\": -2.3}, {\"region\": \"Chernihiv\", \"year\": 2006, \"rate\": -13.0}, {\"region\": \"Kyiv city\", \"year\": 2006, \"rate\": -0.7}, {\"region\": \"Sevastopol\", \"year\": 2006, \"rate\": -5.0}, {\"region\": \"Crimea\", \"year\": 2007, \"rate\": -4.8}, {\"region\": \"Vinnytsia\", \"year\": 2007, \"rate\": -7.5}, {\"region\": \"Volyn\", \"year\": 2007, \"rate\": -1.4}, {\"region\": \"Dnipropetrovsk\", \"year\": 2007, \"rate\": -7.4}, {\"region\": \"Donetsk\", \"year\": 2007, \"rate\": -9.1}, {\"region\": \"Zhytomyr\", \"year\": 2007, \"rate\": -7.6}, {\"region\": \"Zakarpattia\", \"year\": 2007, \"rate\": 0.2}, {\"region\": \"Zaporizhia\", \"year\": 2007, \"rate\": -7.1}, {\"region\": \"Ivano-Frankivsk\", \"year\": 2007, \"rate\": -1.9}, {\"region\": \"Kyiv\", \"year\": 2007, \"rate\": -7.6}, {\"region\": \"Kirovohrad\", \"year\": 2007, \"rate\": -8.8}, {\"region\": \"Luhansk\", \"year\": 2007, \"rate\": -9.1}, {\"region\": \"Lviv\", \"year\": 2007, \"rate\": -2.9}, {\"region\": \"Mykolaiv\", \"year\": 2007, \"rate\": -6.4}, {\"region\": \"Odesa\", \"year\": 2007, \"rate\": -5.0}, {\"region\": \"Poltava\", \"year\": 2007, \"rate\": -9.8}, {\"region\": \"Rivne\", \"year\": 2007, \"rate\": -0.3}, {\"region\": \"Sumy\", \"year\": 2007, \"rate\": -10.2}, {\"region\": \"Ternopil\", \"year\": 2007, \"rate\": -4.5}, {\"region\": \"Kharkiv\", \"year\": 2007, \"rate\": -7.2}, {\"region\": \"Kherson\", \"year\": 2007, \"rate\": -5.9}, {\"region\": \"Khmelnytskyi\", \"year\": 2007, \"rate\": -6.9}, {\"region\": \"Cherkasy\", \"year\": 2007, \"rate\": -9.3}, {\"region\": \"Chernivtsi\", \"year\": 2007, \"rate\": -2.6}, {\"region\": \"Chernihiv\", \"year\": 2007, \"rate\": -13.1}, {\"region\": \"Kyiv city\", \"year\": 2007, \"rate\": -1.0}, {\"region\": \"Sevastopol\", \"year\": 2007, \"rate\": -5.0}, {\"region\": \"Crimea\", \"year\": 2008, \"rate\": -3.7}, {\"region\": \"Vinnytsia\", \"year\": 2008, \"rate\": -6.3}, {\"region\": \"Volyn\", \"year\": 2008, \"rate\": -0.2}, {\"region\": \"Dnipropetrovsk\", \"year\": 2008, \"rate\": -6.7}, {\"region\": \"Donetsk\", \"year\": 2008, \"rate\": -8.3}, {\"region\": \"Zhytomyr\", \"year\": 2008, \"rate\": -7.0}, {\"region\": \"Zakarpattia\", \"year\": 2008, \"rate\": 1.7}, {\"region\": \"Zaporizhia\", \"year\": 2008, \"rate\": -6.2}, {\"region\": \"Ivano-Frankivsk\", \"year\": 2008, \"rate\": -1.0}, {\"region\": \"Kyiv\", \"year\": 2008, \"rate\": -6.2}, {\"region\": \"Kirovohrad\", \"year\": 2008, \"rate\": -8.4}, {\"region\": \"Luhansk\", \"year\": 2008, \"rate\": -8.5}, {\"region\": \"Lviv\", \"year\": 2008, \"rate\": -2.4}, {\"region\": \"Mykolaiv\", \"year\": 2008, \"rate\": -5.4}, {\"region\": \"Odesa\", \"year\": 2008, \"rate\": -3.9}, {\"region\": \"Poltava\", \"year\": 2008, \"rate\": -8.7}, {\"region\": \"Rivne\", \"year\": 2008, \"rate\": 0.7}, {\"region\": \"Sumy\", \"year\": 2008, \"rate\": -9.6}, {\"region\": \"Ternopil\", \"year\": 2008, \"rate\": -3.5}, {\"region\": \"Kharkiv\", \"year\": 2008, \"rate\": -6.4}, {\"region\": \"Kherson\", \"year\": 2008, \"rate\": -5.0}, {\"region\": \"Khmelnytskyi\", \"year\": 2008, \"rate\": -6.0}, {\"region\": \"Cherkasy\", \"year\": 2008, \"rate\": -8.4}, {\"region\": \"Chernivtsi\", \"year\": 2008, \"rate\": -1.3}, {\"region\": \"Chernihiv\", \"year\": 2008, \"rate\": -12.2}, {\"region\": \"Kyiv city\", \"year\": 2008, \"rate\": 0.7}, {\"region\": \"Sevastopol\", \"year\": 2008, \"rate\": -4.6}, {\"region\": \"Crimea\", \"year\": 2009, \"rate\": -2.5}, {\"region\": \"Vinnytsia\", \"year\": 2009, \"rate\": -5.3}, {\"region\": \"Volyn\", \"year\": 2009, \"rate\": 0.7}, {\"region\": \"Dnipropetrovsk\", \"year\": 2009, \"rate\": -5.2}, {\"region\": \"Donetsk\", \"year\": 2009, \"rate\": -7.1}, {\"region\": \"Zhytomyr\", \"year\": 2009, \"rate\": -5.3}, {\"region\": \"Zakarpattia\", \"year\": 2009, \"rate\": 2.1}, {\"region\": \"Zaporizhia\", \"year\": 2009, \"rate\": -5.4}, {\"region\": \"Ivano-Frankivsk\", \"year\": 2009, \"rate\": -0.1}, {\"region\": \"Kyiv\", \"year\": 2009, \"rate\": -4.7}, {\"region\": \"Kirovohrad\", \"year\": 2009, \"rate\": -6.7}, {\"region\": \"Luhansk\", \"year\": 2009, \"rate\": -7.6}, {\"region\": \"Lviv\", \"year\": 2009, \"rate\": -1.1}, {\"region\": \"Mykolaiv\", \"year\": 2009, \"rate\": -4.7}, {\"region\": \"Odesa\", \"year\": 2009, \"rate\": -2.9}, {\"region\": \"Poltava\", \"year\": 2009, \"rate\": -8.0}, {\"region\": \"Rivne\", \"year\": 2009, \"rate\": 1.8}, {\"region\": \"Sumy\", \"year\": 2009, \"rate\": -8.9}, {\"region\": \"Ternopil\", \"year\": 2009, \"rate\": -2.9}, {\"region\": \"Kharkiv\", \"year\": 2009, \"rate\": -5.5}, {\"region\": \"Kherson\", \"year\": 2009, \"rate\": -4.2}, {\"region\": \"Khmelnytskyi\", \"year\": 2009, \"rate\": -5.3}, {\"region\": \"Cherkasy\", \"year\": 2009, \"rate\": -7.2}, {\"region\": \"Chernivtsi\", \"year\": 2009, \"rate\": -0.7}, {\"region\": \"Chernihiv\", \"year\": 2009, \"rate\": -10.5}, {\"region\": \"Kyiv city\", \"year\": 2009, \"rate\": 1.5}, {\"region\": \"Sevastopol\", \"year\": 2009, \"rate\": -3.3}, {\"region\": \"Crimea\", \"year\": 2010, \"rate\": -2.7}, {\"region\": \"Vinnytsia\", \"year\": 2010, \"rate\": -5.5}, {\"region\": \"Volyn\", \"year\": 2010, \"rate\": 0.4}, {\"region\": \"Dnipropetrovsk\", \"year\": 2010, \"rate\": -5.7}, {\"region\": \"Donetsk\", \"year\": 2010, \"rate\": -7.3}, {\"region\": \"Zhytomyr\", \"year\": 2010, \"rate\": -5.2}, {\"region\": \"Zakarpattia\", \"year\": 2010, \"rate\": 2.7}, {\"region\": \"Zaporizhia\", \"year\": 2010, \"rate\": -5.8}, {\"region\": \"Ivano-Frankivsk\", \"year\": 2010, \"rate\": -0.9}, {\"region\": \"Kyiv\", \"year\": 2010, \"rate\": -5.0}, {\"region\": \"Kirovohrad\", \"year\": 2010, \"rate\": -7.0}, {\"region\": \"Luhansk\", \"year\": 2010, \"rate\": -7.8}, {\"region\": \"Lviv\", \"year\": 2010, \"rate\": -1.6}, {\"region\": \"Mykolaiv\", \"year\": 2010, \"rate\": -5.0}, {\"region\": \"Odesa\", \"year\": 2010, \"rate\": -3.1}, {\"region\": \"Poltava\", \"year\": 2010, \"rate\": -8.0}, {\"region\": \"Rivne\", \"year\": 2010, \"rate\": 1.8}, {\"region\": \"Sumy\", \"year\": 2010, \"rate\": -8.4}, {\"region\": \"Ternopil\", \"year\": 2010, \"rate\": -3.5}, {\"region\": \"Kharkiv\", \"year\": 2010, \"rate\": -5.7}, {\"region\": \"Kherson\", \"year\": 2010, \"rate\": -3.7}, {\"region\": \"Khmelnytskyi\", \"year\": 2010, \"rate\": -4.9}, {\"region\": \"Cherkasy\", \"year\": 2010, \"rate\": -7.2}, {\"region\": \"Chernivtsi\", \"year\": 2010, \"rate\": -0.8}, {\"region\": \"Chernihiv\", \"year\": 2010, \"rate\": -10.5}, {\"region\": \"Kyiv city\", \"year\": 2010, \"rate\": 1.2}, {\"region\": \"Sevastopol\", \"year\": 2010, \"rate\": -3.7}, {\"region\": \"Crimea\", \"year\": 2011, \"rate\": -2.1}, {\"region\": \"Vinnytsia\", \"year\": 2011, \"rate\": -4.6}, {\"region\": \"Volyn\", \"year\": 2011, \"rate\": 0.8}, {\"region\": \"Dnipropetrovsk\", \"year\": 2011, \"rate\": -4.8}, {\"region\": \"Donetsk\", \"year\": 2011, \"rate\": -6.7}, {\"region\": \"Zhytomyr\", \"year\": 2011, \"rate\": -4.1}, {\"region\": \"Zakarpattia\", \"year\": 2011, \"rate\": 3.1}, {\"region\": \"Zaporizhia\", \"year\": 2011, \"rate\": -4.9}, {\"region\": \"Ivano-Frankivsk\", \"year\": 2011, \"rate\": -0.1}, {\"region\": \"Kyiv\", \"year\": 2011, \"rate\": -3.9}, {\"region\": \"Kirovohrad\", \"year\": 2011, \"rate\": -6.1}, {\"region\": \"Luhansk\", \"year\": 2011, \"rate\": -7.0}, {\"region\": \"Lviv\", \"year\": 2011, \"rate\": -0.9}, {\"region\": \"Mykolaiv\", \"year\": 2011, \"rate\": -3.8}, {\"region\": \"Odesa\", \"year\": 2011, \"rate\": -1.9}, {\"region\": \"Poltava\", \"year\": 2011, \"rate\": -6.8}, {\"region\": \"Rivne\", \"year\": 2011, \"rate\": 3.0}, {\"region\": \"Sumy\", \"year\": 2011, \"rate\": -7.2}, {\"region\": \"Ternopil\", \"year\": 2011, \"rate\": -2.6}, {\"region\": \"Kharkiv\", \"year\": 2011, \"rate\": -5.0}, {\"region\": \"Kherson\", \"year\": 2011, \"rate\": -3.5}, {\"region\": \"Khmelnytskyi\", \"year\": 2011, \"rate\": -4.3}, {\"region\": \"Cherkasy\", \"year\": 2011, \"rate\": -6.6}, {\"region\": \"Chernivtsi\", \"year\": 2011, \"rate\": 0.1}, {\"region\": \"Chernihiv\", \"year\": 2011, \"rate\": -9.2}, {\"region\": \"Kyiv city\", \"year\": 2011, \"rate\": 1.8}, {\"region\": \"Sevastopol\", \"year\": 2011, \"rate\": -2.9}, {\"region\": \"Crimea\", \"year\": 2012, \"rate\": -1.1}, {\"region\": \"Vinnytsia\", \"year\": 2012, \"rate\": -4.2}, {\"region\": \"Volyn\", \"year\": 2012, \"rate\": 1.6}, {\"region\": \"Dnipropetrovsk\", \"year\": 2012, \"rate\": -4.3}, {\"region\": \"Donetsk\", \"year\": 2012, \"rate\": -6.3}, {\"region\": \"Zhytomyr\", \"year\": 2012, \"rate\": -4.1}, {\"region\": \"Zakarpattia\", \"year\": 2012, \"rate\": 3.3}, {\"region\": \"Zaporizhia\", \"year\": 2012, \"rate\": -4.2}, {\"region\": \"Ivano-Frankivsk\", \"year\": 2012, \"rate\": 0.2}, {\"region\": \"Kyiv\", \"year\": 2012, \"rate\": -3.6}, {\"region\": \"Kirovohrad\", \"year\": 2012, \"rate\": -5.5}, {\"region\": \"Luhansk\", \"year\": 2012, \"rate\": -6.4}, {\"region\": \"Lviv\", \"year\": 2012, \"rate\": -0.6}, {\"region\": \"Mykolaiv\", \"year\": 2012, \"rate\": -3.2}, {\"region\": \"Odesa\", \"year\": 2012, \"rate\": -1.4}, {\"region\": \"Poltava\", \"year\": 2012, \"rate\": -6.6}, {\"region\": \"Rivne\", \"year\": 2012, \"rate\": 3.5}, {\"region\": \"Sumy\", \"year\": 2012, \"rate\": -6.9}, {\"region\": \"Ternopil\", \"year\": 2012, \"rate\": -2.5}, {\"region\": \"Kharkiv\", \"year\": 2012, \"rate\": -4.7}, {\"region\": \"Kherson\", \"year\": 2012, \"rate\": -3.0}, {\"region\": \"Khmelnytskyi\", \"year\": 2012, \"rate\": -4.2}, {\"region\": \"Cherkasy\", \"year\": 2012, \"rate\": -6.1}, {\"region\": \"Chernivtsi\", \"year\": 2012, \"rate\": 0.3}, {\"region\": \"Chernihiv\", \"year\": 2012, \"rate\": -9.3}, {\"region\": \"Kyiv city\", \"year\": 2012, \"rate\": 2.2}, {\"region\": \"Sevastopol\", \"year\": 2012, \"rate\": -1.7}, {\"region\": \"Crimea\", \"year\": 2013, \"rate\": -1.5}, {\"region\": \"Vinnytsia\", \"year\": 2013, \"rate\": -5.0}, {\"region\": \"Volyn\", \"year\": 2013, \"rate\": 1.0}, {\"region\": \"Dnipropetrovsk\", \"year\": 2013, \"rate\": -4.6}, {\"region\": \"Donetsk\", \"year\": 2013, \"rate\": -6.5}, {\"region\": \"Zhytomyr\", \"year\": 2013, \"rate\": -4.6}, {\"region\": \"Zakarpattia\", \"year\": 2013, \"rate\": 2.9}, {\"region\": \"Zaporizhia\", \"year\": 2013, \"rate\": -4.7}, {\"region\": \"Ivano-Frankivsk\", \"year\": 2013, \"rate\": -0.5}, {\"region\": \"Kyiv\", \"year\": 2013, \"rate\": -3.9}, {\"region\": \"Kirovohrad\", \"year\": 2013, \"rate\": -6.0}, {\"region\": \"Luhansk\", \"year\": 2013, \"rate\": -6.8}, {\"region\": \"Lviv\", \"year\": 2013, \"rate\": -0.9}, {\"region\": \"Mykolaiv\", \"year\": 2013, \"rate\": -3.7}, {\"region\": \"Odesa\", \"year\": 2013, \"rate\": -1.9}, {\"region\": \"Poltava\", \"year\": 2013, \"rate\": -6.8}, {\"region\": \"Rivne\", \"year\": 2013, \"rate\": 2.5}, {\"region\": \"Sumy\", \"year\": 2013, \"rate\": -7.8}, {\"region\": \"Ternopil\", \"year\": 2013, \"rate\": -2.7}, {\"region\": \"Kharkiv\", \"year\": 2013, \"rate\": -4.7}, {\"region\": \"Kherson\", \"year\": 2013, \"rate\": -3.5}, {\"region\": \"Khmelnytskyi\", \"year\": 2013, \"rate\": -4.6}, {\"region\": \"Cherkasy\", \"year\": 2013, \"rate\": -6.6}, {\"region\": \"Chernivtsi\", \"year\": 2013, \"rate\": -0.1}, {\"region\": \"Chernihiv\", \"year\": 2013, \"rate\": -9.4}, {\"region\": \"Kyiv city\", \"year\": 2013, \"rate\": 1.9}, {\"region\": \"Sevastopol\", \"year\": 2013, \"rate\": -2.2}, {\"region\": \"Crimea\", \"year\": 2014, \"rate\": null}, {\"region\": \"Vinnytsia\", \"year\": 2014, \"rate\": -4.9}, {\"region\": \"Volyn\", \"year\": 2014, \"rate\": 0.9}, {\"region\": \"Dnipropetrovsk\", \"year\": 2014, \"rate\": -5.0}, {\"region\": \"Donetsk\", \"year\": 2014, \"rate\": null}, {\"region\": \"Zhytomyr\", \"year\": 2014, \"rate\": -4.8}, {\"region\": \"Zakarpattia\", \"year\": 2014, \"rate\": 2.8}, {\"region\": \"Zaporizhia\", \"year\": 2014, \"rate\": -5.1}, {\"region\": \"Ivano-Frankivsk\", \"year\": 2014, \"rate\": -0.6}, {\"region\": \"Kyiv\", \"year\": 2014, \"rate\": -4.3}, {\"region\": \"Kirovohrad\", \"year\": 2014, \"rate\": -6.3}, {\"region\": \"Luhansk\", \"year\": 2014, \"rate\": null}, {\"region\": \"Lviv\", \"year\": 2014, \"rate\": -0.9}, {\"region\": \"Mykolaiv\", \"year\": 2014, \"rate\": -4.0}, {\"region\": \"Odesa\", \"year\": 2014, \"rate\": -2.0}, {\"region\": \"Poltava\", \"year\": 2014, \"rate\": -7.1}, {\"region\": \"Rivne\", \"year\": 2014, \"rate\": 2.1}, {\"region\": \"Sumy\", \"year\": 2014, \"rate\": -8.0}, {\"region\": \"Ternopil\", \"year\": 2014, \"rate\": -3.3}, {\"region\": \"Kharkiv\", \"year\": 2014, \"rate\": -5.2}, {\"region\": \"Kherson\", \"year\": 2014, \"rate\": -3.6}, {\"region\": \"Khmelnytskyi\", \"year\": 2014, \"rate\": -4.4}, {\"region\": \"Cherkasy\", \"year\": 2014, \"rate\": -6.8}, {\"region\": \"Chernivtsi\", \"year\": 2014, \"rate\": 0.0}, {\"region\": \"Chernihiv\", \"year\": 2014, \"rate\": -10.2}, {\"region\": \"Kyiv city\", \"year\": 2014, \"rate\": 1.7}, {\"region\": \"Sevastopol\", \"year\": 2014, \"rate\": null}, {\"region\": \"Crimea\", \"year\": 2015, \"rate\": null}, {\"region\": \"Vinnytsia\", \"year\": 2015, \"rate\": -5.7}, {\"region\": \"Volyn\", \"year\": 2015, \"rate\": -0.4}, {\"region\": \"Dnipropetrovsk\", \"year\": 2015, \"rate\": -6.3}, {\"region\": \"Donetsk\", \"year\": 2015, \"rate\": null}, {\"region\": \"Zhytomyr\", \"year\": 2015, \"rate\": -5.7}, {\"region\": \"Zakarpattia\", \"year\": 2015, \"rate\": 1.0}, {\"region\": \"Zaporizhia\", \"year\": 2015, \"rate\": -6.5}, {\"region\": \"Ivano-Frankivsk\", \"year\": 2015, \"rate\": -1.5}, {\"region\": \"Kyiv\", \"year\": 2015, \"rate\": -4.7}, {\"region\": \"Kirovohrad\", \"year\": 2015, \"rate\": -6.9}, {\"region\": \"Luhansk\", \"year\": 2015, \"rate\": null}, {\"region\": \"Lviv\", \"year\": 2015, \"rate\": -2.0}, {\"region\": \"Mykolaiv\", \"year\": 2015, \"rate\": -5.5}, {\"region\": \"Odesa\", \"year\": 2015, \"rate\": -2.9}, {\"region\": \"Poltava\", \"year\": 2015, \"rate\": -7.7}, {\"region\": \"Rivne\", \"year\": 2015, \"rate\": 1.2}, {\"region\": \"Sumy\", \"year\": 2015, \"rate\": -8.2}, {\"region\": \"Ternopil\", \"year\": 2015, \"rate\": -4.2}, {\"region\": \"Kharkiv\", \"year\": 2015, \"rate\": -6.4}, {\"region\": \"Kherson\", \"year\": 2015, \"rate\": -4.9}, {\"region\": \"Khmelnytskyi\", \"year\": 2015, \"rate\": -5.2}, {\"region\": \"Cherkasy\", \"year\": 2015, \"rate\": -7.0}, {\"region\": \"Chernivtsi\", \"year\": 2015, \"rate\": -1.2}, {\"region\": \"Chernihiv\", \"year\": 2015, \"rate\": -10.3}, {\"region\": \"Kyiv city\", \"year\": 2015, \"rate\": 1.8}, {\"region\": \"Sevastopol\", \"year\": 2015, \"rate\": null}, {\"region\": \"Crimea\", \"year\": 2016, \"rate\": null}, {\"region\": \"Vinnytsia\", \"year\": 2016, \"rate\": -5.8}, {\"region\": \"Volyn\", \"year\": 2016, \"rate\": -0.5}, {\"region\": \"Dnipropetrovsk\", \"year\": 2016, \"rate\": -6.8}, {\"region\": \"Donetsk\", \"year\": 2016, \"rate\": null}, {\"region\": \"Zhytomyr\", \"year\": 2016, \"rate\": -5.8}, {\"region\": \"Zakarpattia\", \"year\": 2016, \"rate\": 0.5}, {\"region\": \"Zaporizhia\", \"year\": 2016, \"rate\": -7.1}, {\"region\": \"Ivano-Frankivsk\", \"year\": 2016, \"rate\": -1.9}, {\"region\": \"Kyiv\", \"year\": 2016, \"rate\": -5.3}, {\"region\": \"Kirovohrad\", \"year\": 2016, \"rate\": -7.7}, {\"region\": \"Luhansk\", \"year\": 2016, \"rate\": null}, {\"region\": \"Lviv\", \"year\": 2016, \"rate\": -2.0}, {\"region\": \"Mykolaiv\", \"year\": 2016, \"rate\": -5.8}, {\"region\": \"Odesa\", \"year\": 2016, \"rate\": -3.0}, {\"region\": \"Poltava\", \"year\": 2016, \"rate\": -8.4}, {\"region\": \"Rivne\", \"year\": 2016, \"rate\": 1.0}, {\"region\": \"Sumy\", \"year\": 2016, \"rate\": -8.9}, {\"region\": \"Ternopil\", \"year\": 2016, \"rate\": -4.7}, {\"region\": \"Kharkiv\", \"year\": 2016, \"rate\": -6.7}, {\"region\": \"Kherson\", \"year\": 2016, \"rate\": -5.3}, {\"region\": \"Khmelnytskyi\", \"year\": 2016, \"rate\": -5.6}, {\"region\": \"Cherkasy\", \"year\": 2016, \"rate\": -7.8}, {\"region\": \"Chernivtsi\", \"year\": 2016, \"rate\": -1.5}, {\"region\": \"Chernihiv\", \"year\": 2016, \"rate\": -10.3}, {\"region\": \"Kyiv city\", \"year\": 2016, \"rate\": 2.0}, {\"region\": \"Sevastopol\", \"year\": 2016, \"rate\": null}, {\"region\": \"Crimea\", \"year\": 2017, \"rate\": null}, {\"region\": \"Vinnytsia\", \"year\": 2017, \"rate\": -6.3}, {\"region\": \"Volyn\", \"year\": 2017, \"rate\": -1.6}, {\"region\": \"Dnipropetrovsk\", \"year\": 2017, \"rate\": -7.3}, {\"region\": \"Donetsk\", \"year\": 2017, \"rate\": null}, {\"region\": \"Zhytomyr\", \"year\": 2017, \"rate\": -6.8}, {\"region\": \"Zakarpattia\", \"year\": 2017, \"rate\": -0.4}, {\"region\": \"Zaporizhia\", \"year\": 2017, \"rate\": -7.8}, {\"region\": \"Ivano-Frankivsk\", \"year\": 2017, \"rate\": -2.9}, {\"region\": \"Kyiv\", \"year\": 2017, \"rate\": -6.3}, {\"region\": \"Kirovohrad\", \"year\": 2017, \"rate\": -8.1}, {\"region\": \"Luhansk\", \"year\": 2017, \"rate\": null}, {\"region\": \"Lviv\", \"year\": 2017, \"rate\": -2.8}, {\"region\": \"Mykolaiv\", \"year\": 2017, \"rate\": -6.0}, {\"region\": \"Odesa\", \"year\": 2017, \"rate\": -3.4}, {\"region\": \"Poltava\", \"year\": 2017, \"rate\": -8.7}, {\"region\": \"Rivne\", \"year\": 2017, \"rate\": -0.2}, {\"region\": \"Sumy\", \"year\": 2017, \"rate\": -8.7}, {\"region\": \"Ternopil\", \"year\": 2017, \"rate\": -5.2}, {\"region\": \"Kharkiv\", \"year\": 2017, \"rate\": -7.2}, {\"region\": \"Kherson\", \"year\": 2017, \"rate\": -5.6}, {\"region\": \"Khmelnytskyi\", \"year\": 2017, \"rate\": -6.3}, {\"region\": \"Cherkasy\", \"year\": 2017, \"rate\": -8.4}, {\"region\": \"Chernivtsi\", \"year\": 2017, \"rate\": -2.0}, {\"region\": \"Chernihiv\", \"year\": 2017, \"rate\": -11.0}, {\"region\": \"Kyiv city\", \"year\": 2017, \"rate\": 1.6}, {\"region\": \"Sevastopol\", \"year\": 2017, \"rate\": null}, {\"region\": \"Crimea\", \"year\": 2018, \"rate\": null}, {\"region\": \"Vinnytsia\", \"year\": 2018, \"rate\": -7.4}, {\"region\": \"Volyn\", \"year\": 2018, \"rate\": -2.3}, {\"region\": \"Dnipropetrovsk\", \"year\": 2018, \"rate\": -8.5}, {\"region\": \"Donetsk\", \"year\": 2018, \"rate\": null}, {\"region\": \"Zhytomyr\", \"year\": 2018, \"rate\": -7.8}, {\"region\": \"Zakarpattia\", \"year\": 2018, \"rate\": -1.2}, {\"region\": \"Zaporizhia\", \"year\": 2018, \"rate\": -8.9}, {\"region\": \"Ivano-Frankivsk\", \"year\": 2018, \"rate\": -3.5}, {\"region\": \"Kyiv\", \"year\": 2018, \"rate\": -7.6}, {\"region\": \"Kirovohrad\", \"year\": 2018, \"rate\": -8.9}, {\"region\": \"Luhansk\", \"year\": 2018, \"rate\": null}, {\"region\": \"Lviv\", \"year\": 2018, \"rate\": -3.8}, {\"region\": \"Mykolaiv\", \"year\": 2018, \"rate\": -7.1}, {\"region\": \"Odesa\", \"year\": 2018, \"rate\": -4.4}, {\"region\": \"Poltava\", \"year\": 2018, \"rate\": -9.6}, {\"region\": \"Rivne\", \"year\": 2018, \"rate\": -1.0}, {\"region\": \"Sumy\", \"year\": 2018, \"rate\": -9.9}, {\"region\": \"Ternopil\", \"year\": 2018, \"rate\": -6.2}, {\"region\": \"Kharkiv\", \"year\": 2018, \"rate\": -8.6}, {\"region\": \"Kherson\", \"year\": 2018, \"rate\": -6.8}, {\"region\": \"Khmelnytskyi\", \"year\": 2018, \"rate\": -7.1}, {\"region\": \"Cherkasy\", \"year\": 2018, \"rate\": -9.5}, {\"region\": \"Chernivtsi\", \"year\": 2018, \"rate\": -2.8}, {\"region\": \"Chernihiv\", \"year\": 2018, \"rate\": -12.3}, {\"region\": \"Kyiv city\", \"year\": 2018, \"rate\": 0.8}, {\"region\": \"Sevastopol\", \"year\": 2018, \"rate\": null}], \"data-396c9da51418044f3acb603e164a008e\": [{\"text\": \"Data: State Statistics Service of Ukraine\"}]}}, {\"mode\": \"vega-lite\"});\n",
              "</script>"
            ]
          },
          "metadata": {
            "tags": []
          },
          "execution_count": 8
        }
      ]
    }
  ]
}