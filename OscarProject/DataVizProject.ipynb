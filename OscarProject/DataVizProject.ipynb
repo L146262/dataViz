{
  "nbformat": 4,
  "nbformat_minor": 0,
  "metadata": {
    "kernelspec": {
      "display_name": "Python 3",
      "language": "python",
      "name": "python3"
    },
    "language_info": {
      "codemirror_mode": {
        "name": "ipython",
        "version": 3
      },
      "file_extension": ".py",
      "mimetype": "text/x-python",
      "name": "python",
      "nbconvert_exporter": "python",
      "pygments_lexer": "ipython3",
      "version": "3.7.5"
    },
    "colab": {
      "name": "DataVizProject.ipynb",
      "provenance": [],
      "collapsed_sections": []
    }
  },
  "cells": [
    {
      "cell_type": "code",
      "metadata": {
        "id": "Fh3YORNf1q2v",
        "colab_type": "code",
        "outputId": "ea997cb7-8fc1-4d70-8b3b-db630d181410",
        "colab": {
          "base_uri": "https://localhost:8080/",
          "height": 138
        }
      },
      "source": [
        "!pip install imdbpy"
      ],
      "execution_count": 0,
      "outputs": [
        {
          "output_type": "stream",
          "text": [
            "Collecting imdbpy\n",
            "\u001b[?25l  Downloading https://files.pythonhosted.org/packages/70/87/928f9b8752dfafe8093488e03bd5d04b5dc260902f409303b0891cec86ef/IMDbPY-6.8-py3-none-any.whl (295kB)\n",
            "\u001b[K     |████████████████████████████████| 296kB 3.5MB/s \n",
            "\u001b[?25hRequirement already satisfied: lxml in /usr/local/lib/python3.6/dist-packages (from imdbpy) (4.2.6)\n",
            "Requirement already satisfied: SQLAlchemy in /usr/local/lib/python3.6/dist-packages (from imdbpy) (1.3.13)\n",
            "Installing collected packages: imdbpy\n",
            "Successfully installed imdbpy-6.8\n"
          ],
          "name": "stdout"
        }
      ]
    },
    {
      "cell_type": "code",
      "metadata": {
        "id": "P7ozO3DK0FsZ",
        "colab_type": "code",
        "outputId": "a9213340-7058-492a-e051-8dbefb73cc24",
        "colab": {
          "base_uri": "https://localhost:8080/",
          "height": 34
        }
      },
      "source": [
        "import pandas as pd\n",
        "import altair as alt\n",
        "import numpy as np\n",
        "from altair import datum\n",
        "\n",
        "alt.data_transformers.enable('default', max_rows=None) "
      ],
      "execution_count": 0,
      "outputs": [
        {
          "output_type": "execute_result",
          "data": {
            "text/plain": [
              "DataTransformerRegistry.enable('default')"
            ]
          },
          "metadata": {
            "tags": []
          },
          "execution_count": 18
        }
      ]
    },
    {
      "cell_type": "code",
      "metadata": {
        "id": "DGB4B68z1Uec",
        "colab_type": "code",
        "outputId": "ae79a605-c0ce-4270-9469-61cce12bce32",
        "colab": {
          "base_uri": "https://localhost:8080/",
          "height": 124
        }
      },
      "source": [
        "from google.colab import drive\n",
        "drive.mount('/content/drive')"
      ],
      "execution_count": 0,
      "outputs": [
        {
          "output_type": "stream",
          "text": [
            "Go to this URL in a browser: https://accounts.google.com/o/oauth2/auth?client_id=947318989803-6bn6qk8qdgf4n4g3pfee6491hc0brc4i.apps.googleusercontent.com&redirect_uri=urn%3aietf%3awg%3aoauth%3a2.0%3aoob&response_type=code&scope=email%20https%3a%2f%2fwww.googleapis.com%2fauth%2fdocs.test%20https%3a%2f%2fwww.googleapis.com%2fauth%2fdrive%20https%3a%2f%2fwww.googleapis.com%2fauth%2fdrive.photos.readonly%20https%3a%2f%2fwww.googleapis.com%2fauth%2fpeopleapi.readonly\n",
            "\n",
            "Enter your authorization code:\n",
            "··········\n",
            "Mounted at /content/drive\n"
          ],
          "name": "stdout"
        }
      ]
    },
    {
      "cell_type": "markdown",
      "metadata": {
        "id": "NMbxOnf60Fsi",
        "colab_type": "text"
      },
      "source": [
        "oscar nominants dataset\n",
        "https://datahub.io/rufuspollock/oscars-nominees-and-winners"
      ]
    },
    {
      "cell_type": "code",
      "metadata": {
        "id": "Rv_BRds60Fsj",
        "colab_type": "code",
        "colab": {}
      },
      "source": [
        "oscar_df = pd.read_csv('/content/drive/My Drive/OscarData.csv')\n",
        "oscar_df.tail()"
      ],
      "execution_count": 0,
      "outputs": []
    },
    {
      "cell_type": "markdown",
      "metadata": {
        "id": "iV8Ckz5A0Fsn",
        "colab_type": "text"
      },
      "source": [
        "IMDB dataset: https://imdbpy.github.io"
      ]
    },
    {
      "cell_type": "code",
      "metadata": {
        "scrolled": true,
        "id": "Y__NkFx50Fsp",
        "colab_type": "code",
        "colab": {}
      },
      "source": [
        "from imdb import IMDb\n",
        "ia = IMDb()"
      ],
      "execution_count": 0,
      "outputs": []
    },
    {
      "cell_type": "markdown",
      "metadata": {
        "id": "b0mesapm0Fsx",
        "colab_type": "text"
      },
      "source": [
        "## Most nominated actors/acresses"
      ]
    },
    {
      "cell_type": "code",
      "metadata": {
        "id": "_e3F60K-0Fsy",
        "colab_type": "code",
        "colab": {}
      },
      "source": [
        "best_actor_actress_nominated_df = oscar_df[(oscar_df.category.isin(['ACTOR IN A LEADING ROLE', \n",
        "                                                                    'ACTOR IN A SUPPORTING ROLE', \n",
        "                                                                    'ACTOR', \n",
        "                                                                    'ACTRESS IN A LEADING ROLE', \n",
        "                                                                    'ACTRESS IN A SUPPORTING ROLE', \n",
        "                                                                    'ACTRESS']))]\n",
        "\n",
        "nominated_count = best_actor_actress_nominated_df.entity.value_counts()\n",
        "winner_count = best_actor_actress_nominated_df[best_actor_actress_nominated_df.winner==True].entity.value_counts()\n",
        "\n",
        "best_actors_actress_count_df = pd.DataFrame(data=dict(nominated=nominated_count, \n",
        "                       win=winner_count, name = nominated_count.index), \n",
        "             index=nominated_count.index)\n",
        "\n",
        "best_actors_actress_count_df.head()"
      ],
      "execution_count": 0,
      "outputs": []
    },
    {
      "cell_type": "code",
      "metadata": {
        "id": "mZDNteoE0Fs9",
        "colab_type": "code",
        "colab": {}
      },
      "source": [
        "best_actors_for_viz_df = pd.DataFrame(columns=['nominated', 'name', 'win'])\n",
        "\n",
        "for ind, row in best_actors_actress_count_df[best_actors_actress_count_df.nominated>6].iterrows():\n",
        "    if row['nominated'] > 1:\n",
        "        for i in range(1, row['nominated']+1):\n",
        "            best_actors_for_viz_df = best_actors_for_viz_df.append({'nominated': i, 'name': row['name']}, ignore_index=True)\n",
        "    if row['win'] > 0:\n",
        "        for i in range(int(row['win'])):\n",
        "            best_actors_for_viz_df = best_actors_for_viz_df.append({'win': row['nominated']-i, 'name': row['name']}, ignore_index=True)\n",
        "    "
      ],
      "execution_count": 0,
      "outputs": []
    },
    {
      "cell_type": "markdown",
      "metadata": {
        "id": "lKdckGf3Ha5L",
        "colab_type": "text"
      },
      "source": [
        "## Best pictires"
      ]
    },
    {
      "cell_type": "code",
      "metadata": {
        "id": "JHnNuvu50FtH",
        "colab_type": "code",
        "colab": {}
      },
      "source": [
        "oscar_imdb_df = oscar_df[(oscar_df.category == 'BEST PICTURE')  & \n",
        "                                 (oscar_df.winner == True) & (oscar_df.year > 1989)][['entity', 'year']]"
      ],
      "execution_count": 0,
      "outputs": []
    },
    {
      "cell_type": "code",
      "metadata": {
        "id": "7XDy3Lwe0FtJ",
        "colab_type": "code",
        "colab": {}
      },
      "source": [
        "oscar_imdb_df['year'] = oscar_imdb_df['year']+1\n",
        "oscar_imdb_df['budget'] = ''\n",
        "oscar_imdb_df['box_office'] = ''\n",
        "oscar_imdb_df['rating'] = ''\n",
        "\n",
        "for ind, row in oscar_imdb_df.iterrows():\n",
        "    movie = ia.search_movie(row['entity'])[0]\n",
        "    ia.update(movie, info=['main'])\n",
        "    oscar_imdb_df.loc[ind, 'budget'] = movie['box office']['Budget']if 'box office' in movie and 'Budget' in movie['box office'] else None\n",
        "    oscar_imdb_df.loc[ind, 'box_office'] = movie['box office']['Cumulative Worldwide Gross'] if 'box office' in movie and 'Cumulative Worldwide Gross' in movie['box office'] else None\n",
        "    oscar_imdb_df.loc[ind, 'rating'] = movie['rating'] "
      ],
      "execution_count": 0,
      "outputs": []
    },
    {
      "cell_type": "code",
      "metadata": {
        "id": "ix6L6dT-a6oC",
        "colab_type": "code",
        "colab": {}
      },
      "source": [
        "import re\n",
        "oscar_imdb_df.fillna(0, inplace=True)\n",
        "\n",
        "extract_currency = lambda s: re.findall(\"\\$([-0-9.,]+[-0-9.,]*)\", str(s))[0].replace(',', '') if re.findall(\"\\$([-0-9.,]+[-0-9.,]*)\", str(s)) else 0\n",
        "\n",
        "oscar_imdb_df.budget = oscar_imdb_df.budget.apply(extract_currency)\n",
        "oscar_imdb_df.budget = oscar_imdb_df.budget.astype(int)\n",
        "\n",
        "oscar_imdb_df.box_office = oscar_imdb_df.box_office.apply(extract_currency)\n",
        "oscar_imdb_df.box_office = oscar_imdb_df.box_office.astype(int)"
      ],
      "execution_count": 0,
      "outputs": []
    },
    {
      "cell_type": "markdown",
      "metadata": {
        "id": "tYLK7EJz2Ynk",
        "colab_type": "text"
      },
      "source": [
        "## Directors"
      ]
    },
    {
      "cell_type": "code",
      "metadata": {
        "id": "M7kETpxm2ViH",
        "colab_type": "code",
        "colab": {}
      },
      "source": [
        "best_directed_films_df = oscar_df[(oscar_df.category == 'DIRECTING')].drop(columns=['category']).reset_index()\n",
        "best_directed_films_df['director'] = ''"
      ],
      "execution_count": 0,
      "outputs": []
    },
    {
      "cell_type": "code",
      "metadata": {
        "id": "2vrYSXIK2m23",
        "colab_type": "code",
        "colab": {}
      },
      "source": [
        "for ind, row in best_directed_films_df.iterrows():\n",
        "    movie = ia.search_movie(row['entity'])\n",
        "    if movie:\n",
        "      movie=movie[0]\n",
        "      ia.update(movie, info=['main'])\n",
        "      best_directed_films_df.loc[ind,'director'] = movie['director'][0]['name'] if 'director' in movie else None\n"
      ],
      "execution_count": 0,
      "outputs": []
    },
    {
      "cell_type": "code",
      "metadata": {
        "id": "IvCtY9gG42sE",
        "colab_type": "code",
        "colab": {}
      },
      "source": [
        "best_directed_films_df.dropna(inplace=True)"
      ],
      "execution_count": 0,
      "outputs": []
    },
    {
      "cell_type": "code",
      "metadata": {
        "id": "sO5ArmOq-k2u",
        "colab_type": "code",
        "outputId": "a2552a2e-2116-418c-8f82-fb51bda5c7f0",
        "colab": {
          "base_uri": "https://localhost:8080/",
          "height": 206
        }
      },
      "source": [
        "dir_nominated_count = best_directed_films_df.director.value_counts()\n",
        "dir_winner_count = best_directed_films_df[best_directed_films_df.winner==True].director.value_counts()\n",
        "\n",
        "best_dir_count_df = pd.DataFrame(data=dict(nominated=dir_nominated_count, \n",
        "                       win=dir_winner_count, director = dir_nominated_count.index), \n",
        "             index=dir_nominated_count.index)\n",
        "\n",
        "best_dir_count_df.head()"
      ],
      "execution_count": 0,
      "outputs": [
        {
          "output_type": "execute_result",
          "data": {
            "text/html": [
              "<div>\n",
              "<style scoped>\n",
              "    .dataframe tbody tr th:only-of-type {\n",
              "        vertical-align: middle;\n",
              "    }\n",
              "\n",
              "    .dataframe tbody tr th {\n",
              "        vertical-align: top;\n",
              "    }\n",
              "\n",
              "    .dataframe thead th {\n",
              "        text-align: right;\n",
              "    }\n",
              "</style>\n",
              "<table border=\"1\" class=\"dataframe\">\n",
              "  <thead>\n",
              "    <tr style=\"text-align: right;\">\n",
              "      <th></th>\n",
              "      <th>nominated</th>\n",
              "      <th>win</th>\n",
              "      <th>director</th>\n",
              "    </tr>\n",
              "  </thead>\n",
              "  <tbody>\n",
              "    <tr>\n",
              "      <th>William Wyler</th>\n",
              "      <td>9</td>\n",
              "      <td>3.0</td>\n",
              "      <td>William Wyler</td>\n",
              "    </tr>\n",
              "    <tr>\n",
              "      <th>Billy Wilder</th>\n",
              "      <td>8</td>\n",
              "      <td>2.0</td>\n",
              "      <td>Billy Wilder</td>\n",
              "    </tr>\n",
              "    <tr>\n",
              "      <th>Martin Scorsese</th>\n",
              "      <td>8</td>\n",
              "      <td>1.0</td>\n",
              "      <td>Martin Scorsese</td>\n",
              "    </tr>\n",
              "    <tr>\n",
              "      <th>Fred Zinnemann</th>\n",
              "      <td>7</td>\n",
              "      <td>2.0</td>\n",
              "      <td>Fred Zinnemann</td>\n",
              "    </tr>\n",
              "    <tr>\n",
              "      <th>Woody Allen</th>\n",
              "      <td>7</td>\n",
              "      <td>1.0</td>\n",
              "      <td>Woody Allen</td>\n",
              "    </tr>\n",
              "  </tbody>\n",
              "</table>\n",
              "</div>"
            ],
            "text/plain": [
              "                 nominated  win         director\n",
              "William Wyler            9  3.0    William Wyler\n",
              "Billy Wilder             8  2.0     Billy Wilder\n",
              "Martin Scorsese          8  1.0  Martin Scorsese\n",
              "Fred Zinnemann           7  2.0   Fred Zinnemann\n",
              "Woody Allen              7  1.0      Woody Allen"
            ]
          },
          "metadata": {
            "tags": []
          },
          "execution_count": 14
        }
      ]
    },
    {
      "cell_type": "markdown",
      "metadata": {
        "colab_type": "text",
        "id": "zbcefVG_yO6p"
      },
      "source": [
        "## Visualizations"
      ]
    },
    {
      "cell_type": "code",
      "metadata": {
        "id": "Fm8SDuueH-4Q",
        "colab_type": "code",
        "colab": {}
      },
      "source": [
        "background_color = '#f5f5f5'\n",
        "med_grey = '#9d9d9d'\n",
        "orange = '#fdbf11'\n",
        "font = 'Open Sans'\n",
        "title_size= 15\n",
        "title_color = 'grey'\n",
        "\n",
        "labels_color = 'grey'\n",
        "labels_size = 12\n",
        "\n",
        "paddings = {'top': 40, 'left': 40, 'right': 40, 'bottom':40}"
      ],
      "execution_count": 0,
      "outputs": []
    },
    {
      "cell_type": "code",
      "metadata": {
        "id": "7SVjt2vhG-6t",
        "colab_type": "code",
        "colab": {}
      },
      "source": [
        "oscar_imdb_df.replace('The Lord of the Rings: The Return of the King', 'The Lord of the Rings 3', inplace = True)\n",
        "oscar_imdb_df.replace('Birdman or (The Unexpected Virtue of Ignorance)', 'Birdman', inplace = True)\n",
        "\n",
        "sorted_movies = list(oscar_imdb_df.sort_values(['year'], ascending=False).index)\n",
        "\n",
        "base = alt.Chart(oscar_imdb_df, width=600, height=800)\n",
        "\n",
        "chart = alt.layer(\n",
        "    base.mark_bar(color='black', height=10).encode(\n",
        "    y=alt.Y('year:N', sort = alt.Sort(field='year', order= 'descending')),\n",
        "    x=alt.X('box_office:Q', axis = alt.Axis(), scale=alt.Scale(type='log')),\n",
        "    ),\n",
        "  base.mark_bar(color='red', height=10).encode(\n",
        "    y=alt.Y('year:N'),\n",
        "    x=alt.X('budget:Q', scale=alt.Scale(type='log'))\n",
        "  ),\n",
        "    base.mark_circle(opacity=1, color='orange').encode(\n",
        "    y=alt.Y('year:N'),\n",
        "    x=alt.X('box_office:Q', scale=alt.Scale(type='log'), axis = alt.Axis(values = [1000000, 3000000, 10000000, 30000000, 100000000, 300000000, 1000000000, 3000000000],format=\"$~s\")),\n",
        "        size = alt.Size('rating:Q', scale= alt.Scale(range=[150, 800], domain=[7, 9]), legend=alt.Legend(direction='horizontal', legendY=30, legendX=225, orient= 'none', title=None)),\n",
        "        tooltip = alt.Tooltip(['entity:N', 'year:N', 'box_office:Q', 'budget:Q', 'rating:N'])\n",
        "  ),\n",
        "  base.mark_text(align='left', font = font, dx=-520, size = labels_size, color=labels_color).encode(y=alt.Y('year:N'), text = 'entity:N')\n",
        ")\n",
        "\n",
        "title = alt.Chart(\n",
        "    {\"values\": [{\"text\": \"Oscar: The Best Pictures from 1991 to 2018\"}]}\n",
        ").mark_text(size=30, align='left', font = font, color = 'grey', dx=-120, dy = -10).encode(\n",
        "    text=\"text:N\"\n",
        ")\n",
        "\n",
        "legend = alt.layer(\n",
        "    alt.Chart({'values': [{\"x1\":0, \"x2\":40, 'text': 'budget'}]}).mark_rect(color='red', height=10, dy=10).encode(x = alt.X('x1:Q', axis=alt.Axis(grid=False, labels=False)), x2='x2:Q', ),\n",
        "    alt.Chart({'values': [{\"x1\":80, \"x2\":120, 'text': 'box office'}]}).mark_rect(color='black', height=10).encode(x = alt.X('x1:Q', axis=alt.Axis(grid=False, labels=False), scale=alt.Scale(range=[-50, 470])), x2='x2:Q', ),\n",
        "    alt.Chart({'values': [{\"x\":40, 'text': 'budget'}, {\"x\":120, 'text': 'box office'}, {\"x\":350, 'text':'IMDB rating'}]}).mark_text(color = 'grey', align='left', dx = 10, dy=-10, font = font).encode(x = 'x:Q', text='text:N'),\n",
        "    )\n",
        "\n",
        "best_pics = (title & legend & chart).properties(\n",
        "    background = background_color,\n",
        "    padding= paddings,\n",
        ").configure_axis(\n",
        "    title = None,\n",
        "        ticks=False, \n",
        "        domain=False,\n",
        "        labelPadding=10,\n",
        "        labelFont= font,\n",
        "        labelFontSize=labels_size,\n",
        "        labelColor=labels_color,       \n",
        ").configure_view(\n",
        "    stroke=None,\n",
        ").configure_title(\n",
        "    font=font,\n",
        ")\n",
        "# best_pics"
      ],
      "execution_count": 0,
      "outputs": []
    },
    {
      "cell_type": "code",
      "metadata": {
        "id": "PGFhODLsHGSS",
        "colab_type": "code",
        "colab": {}
      },
      "source": [
        "sort_actors = list(best_actors_actress_count_df[best_actors_actress_count_df.nominated>6].sort_values(['nominated', 'win'], ascending=False).index)\n",
        "\n",
        "base = alt.Chart(best_actors_for_viz_df, width= 600, height=800)\n",
        "\n",
        "chart = alt.layer(\n",
        "  base.mark_circle(color=med_grey, size=550, opacity=0.9).encode(\n",
        "    x = alt.X('nominated:Q', axis=alt.Axis(labels=False, title=None)),\n",
        "    y = alt.Y('name:N', sort = alt.SortArray(sort_actors), axis=alt.Axis(title=None))),\n",
        "      \n",
        "  base.mark_circle(color=orange, size=400, opacity=1).encode(\n",
        "    x = alt.X('win:Q'),\n",
        "    y = alt.Y('name:N', sort = alt.SortArray(sort_actors),\n",
        "              axis=alt.Axis(title=None))),\n",
        "          \n",
        "\n",
        "  base.mark_text(color='white', font=font).encode(\n",
        "    x = alt.X('max_win:Q'),\n",
        "    y = alt.Y('name:N', sort = alt.SortArray(sort_actors), axis=alt.Axis(title=None)),\n",
        "    text = 'win_count:Q')\n",
        "    .transform_aggregate(\n",
        "      max_win='max(win)',\n",
        "      min_win='min(win)',\n",
        "      groupby=[\"name\"]).transform_calculate(\n",
        "        win_count= datum.max_win - datum.min_win + 1,\n",
        "      ),\n",
        "\n",
        "  base.mark_text(color='black', font=font).encode(\n",
        "      x = alt.X('nom_label:Q'),\n",
        "      y = alt.Y('name:N', sort = alt.SortArray(sort_actors),\n",
        "              axis=alt.Axis(title=None)),\n",
        "      text = 'nom_count:Q')\n",
        "      .transform_aggregate(\n",
        "      max_nom='max(nominated)',\n",
        "      min_nom='min(nominated)',\n",
        "      groupby=[\"name\"]).transform_calculate(\n",
        "          nom_count = datum.max_nom - datum.min_nom + 1,\n",
        "        nom_label = datum.max_nom - datum.min_nom + 1 + 1\n",
        "      ), \n",
        ")\n",
        "\n",
        "title = alt.Chart(\n",
        "    {\"values\": [{\"text\": \"Oscar: The Most nominated actors\"}]}\n",
        ").mark_text(size=30, align='left', color = 'grey', dx=15, dy = -10, font=font).encode(\n",
        "    text=\"text:N\"\n",
        ")\n",
        "\n",
        "legend = alt.layer(\n",
        "    alt.Chart({'values': [{\"x\":2, 'text': 'nominated'}, {\"x\":6, 'text': 'winner'}]}).mark_circle(size=550, color='grey').encode(x = 'x:Q', color=alt.Color('text:N', scale = alt.Scale(range=['grey', 'orange']), legend=None)),\n",
        "    alt.Chart({'values': [{\"x\":2, 'text': 'nominated'}, {\"x\":6, 'text': 'winner'}]}).mark_text(color = 'grey', align='left', dx = 15, font=font).encode(x = 'x:Q', text='text:N'),)\n",
        "\n",
        "most_nom_actors = (title & legend & chart).properties(\n",
        "    background = background_color,\n",
        "    padding= paddings,\n",
        ").configure_axisX(\n",
        "    title=None,\n",
        "    labels=False,\n",
        ").configure_axis(\n",
        "        grid= False, \n",
        "        ticks=False, \n",
        "        domain=False,\n",
        "        labelFont= font,\n",
        "        labelColor=labels_color,\n",
        "        labelFontSize=labels_size,\n",
        ").configure_view(\n",
        "    stroke=None,\n",
        ")\n"
      ],
      "execution_count": 0,
      "outputs": []
    },
    {
      "cell_type": "code",
      "metadata": {
        "id": "cj4xS6W1AdQ5",
        "colab_type": "code",
        "colab": {}
      },
      "source": [
        "from altair import expr, datum\n",
        "\n",
        "_sort = list(best_dir_count_df[best_dir_count_df.nominated>3].sort_values(['nominated', 'win'], ascending=False).index)\n",
        "\n",
        "base = alt.Chart(best_dir_count_df[best_dir_count_df.nominated>3], height=800, width=600)\n",
        "\n",
        "chart = alt.layer(\n",
        "    base.mark_bar(color='grey', height=18).encode(\n",
        "        x = alt.X('nominated:Q',),\n",
        "        y = alt.Y('director:N', sort = alt.SortArray(_sort),),\n",
        "        \n",
        "    ),\n",
        "    \n",
        "    base.mark_text(color = 'white', align='right', baseline='middle', dx = -3, font=font).encode(\n",
        "        x = alt.X('nominated:Q'),\n",
        "        y = alt.Y('director:N', sort = alt.SortArray(_sort)),\n",
        "        text='nominated:Q'\n",
        "    ),\n",
        "    base.mark_text(color = 'black', opacity=1, font=font).encode(\n",
        "        x = alt.X('x:Q'),\n",
        "        y = alt.Y('director:N', sort = alt.SortArray(_sort)),\n",
        "        text='win:Q'\n",
        "    ).transform_calculate(\n",
        "      x=datum.nominated + 0.4,\n",
        "    ).transform_filter(\n",
        "    'datum.win > 0'\n",
        "),\n",
        "    base.mark_circle(color='orange', align='right', baseline='middle', size=650).encode(\n",
        "        x = alt.X('x:Q'),\n",
        "        y = alt.Y('director:N', sort = alt.SortArray(_sort)),\n",
        "        size=alt.Size('win:Q', scale=alt.Scale(range=[900, 1400], domain=[1,3]), legend=None)\n",
        "    ).transform_calculate(\n",
        "      x=datum.nominated + 0.4,\n",
        "    )\n",
        ")\n",
        "\n",
        "title = alt.Chart(\n",
        "    {\"values\": [{\"text\": \"Oscar: The Most Nominated Directors\"}]}\n",
        ").mark_text(size=30, align='left', font = font, color = 'grey', dx=-25, dy = -10).encode(\n",
        "    text=\"text:N\"\n",
        ")\n",
        "\n",
        "legend = alt.layer(\n",
        "    alt.Chart({'values': [{\"x\":2.5, 'text': 'winner'}]}).mark_circle(size=550, color='orange').encode(x = 'x:Q'),\n",
        "    alt.Chart({'values': [{\"x1\":1.3, \"x2\":0.3, 'text': 'nominated'}]}).mark_rect(color='grey').encode(x = 'x1:Q', x2='x2:Q'),\n",
        "    alt.Chart({'values': [{\"x\":1.25, 'text': 'nominated'}, {\"x\":2.5, 'text': 'winner'}]}).mark_text(color = 'grey', align='left', dx = 15, font=font).encode(x = 'x:Q', text='text:N'),)\n",
        "\n",
        "\n",
        "most_nom_directors = (title & legend & chart).properties(\n",
        "    background = background_color,\n",
        "    # title = 'Oscar: The Most Nominated Directors',\n",
        "    padding=paddings,\n",
        ").configure_axis(\n",
        "        title=None,\n",
        "        grid= False, \n",
        "        ticks=False, \n",
        "        domain=False,\n",
        "        labelPadding=10,\n",
        "        labelFont= font,\n",
        "        labelColor=labels_color,\n",
        "        labelFontSize=labels_size,\n",
        ").configure_axisX(\n",
        "    labels=False,\n",
        ").configure_view(\n",
        "    stroke=None,\n",
        ").configure_title(\n",
        "    fontSize=title_size,\n",
        "    font=font,\n",
        "    color=title_color,\n",
        ").configure_legend(title=None)\n",
        "\n"
      ],
      "execution_count": 0,
      "outputs": []
    },
    {
      "cell_type": "code",
      "metadata": {
        "id": "DEMEwywZMwlp",
        "colab_type": "code",
        "outputId": "76340710-cc17-46c9-a870-610ce34ecfda",
        "colab": {
          "base_uri": "https://localhost:8080/",
          "height": 1000
        }
      },
      "source": [
        "most_nom_actors"
      ],
      "execution_count": 0,
      "outputs": [
        {
          "output_type": "execute_result",
          "data": {
            "text/plain": [
              "alt.VConcatChart(...)"
            ],
            "text/html": [
              "\n",
              "<div id=\"altair-viz-ffc46480499a4ac5a3512fe4b6e9d594\"></div>\n",
              "<script type=\"text/javascript\">\n",
              "  (function(spec, embedOpt){\n",
              "    const outputDiv = document.getElementById(\"altair-viz-ffc46480499a4ac5a3512fe4b6e9d594\");\n",
              "    const paths = {\n",
              "      \"vega\": \"https://cdn.jsdelivr.net/npm//vega@5?noext\",\n",
              "      \"vega-lib\": \"https://cdn.jsdelivr.net/npm//vega-lib?noext\",\n",
              "      \"vega-lite\": \"https://cdn.jsdelivr.net/npm//vega-lite@4.0.2?noext\",\n",
              "      \"vega-embed\": \"https://cdn.jsdelivr.net/npm//vega-embed@6?noext\",\n",
              "    };\n",
              "\n",
              "    function loadScript(lib) {\n",
              "      return new Promise(function(resolve, reject) {\n",
              "        var s = document.createElement('script');\n",
              "        s.src = paths[lib];\n",
              "        s.async = true;\n",
              "        s.onload = () => resolve(paths[lib]);\n",
              "        s.onerror = () => reject(`Error loading script: ${paths[lib]}`);\n",
              "        document.getElementsByTagName(\"head\")[0].appendChild(s);\n",
              "      });\n",
              "    }\n",
              "\n",
              "    function showError(err) {\n",
              "      outputDiv.innerHTML = `<div class=\"error\" style=\"color:red;\">${err}</div>`;\n",
              "      throw err;\n",
              "    }\n",
              "\n",
              "    function displayChart(vegaEmbed) {\n",
              "      vegaEmbed(outputDiv, spec, embedOpt)\n",
              "        .catch(err => showError(`Javascript Error: ${err.message}<br>This usually means there's a typo in your chart specification. See the javascript console for the full traceback.`));\n",
              "    }\n",
              "\n",
              "    if(typeof define === \"function\" && define.amd) {\n",
              "      requirejs.config({paths});\n",
              "      require([\"vega-embed\"], displayChart, err => showError(`Error loading script: ${err.message}`));\n",
              "    } else if (typeof vegaEmbed === \"function\") {\n",
              "      displayChart(vegaEmbed);\n",
              "    } else {\n",
              "      loadScript(\"vega\")\n",
              "        .then(() => loadScript(\"vega-lite\"))\n",
              "        .then(() => loadScript(\"vega-embed\"))\n",
              "        .catch(showError)\n",
              "        .then(() => displayChart(vegaEmbed));\n",
              "    }\n",
              "  })({\"config\": {\"view\": {\"continuousWidth\": 400, \"continuousHeight\": 300, \"stroke\": null}, \"axis\": {\"domain\": false, \"grid\": false, \"labelColor\": \"grey\", \"labelFont\": \"Open Sans\", \"labelFontSize\": 12, \"ticks\": false}, \"axisX\": {\"labels\": false, \"title\": null}}, \"vconcat\": [{\"data\": {\"name\": \"data-aaebb2c2e2957ecc6b481a0e570abedd\"}, \"mark\": {\"type\": \"text\", \"align\": \"left\", \"color\": \"grey\", \"dx\": 15, \"dy\": -10, \"font\": \"Open Sans\", \"size\": 30}, \"encoding\": {\"text\": {\"type\": \"nominal\", \"field\": \"text\"}}}, {\"layer\": [{\"data\": {\"name\": \"data-d34c81d64268455a0743c5e327fd7b52\"}, \"mark\": {\"type\": \"circle\", \"color\": \"grey\", \"size\": 550}, \"encoding\": {\"color\": {\"type\": \"nominal\", \"field\": \"text\", \"legend\": null, \"scale\": {\"range\": [\"grey\", \"orange\"]}}, \"x\": {\"type\": \"quantitative\", \"field\": \"x\"}}}, {\"data\": {\"name\": \"data-d34c81d64268455a0743c5e327fd7b52\"}, \"mark\": {\"type\": \"text\", \"align\": \"left\", \"color\": \"grey\", \"dx\": 15, \"font\": \"Open Sans\"}, \"encoding\": {\"text\": {\"type\": \"nominal\", \"field\": \"text\"}, \"x\": {\"type\": \"quantitative\", \"field\": \"x\"}}}]}, {\"layer\": [{\"mark\": {\"type\": \"circle\", \"color\": \"#9d9d9d\", \"opacity\": 0.9, \"size\": 550}, \"encoding\": {\"x\": {\"type\": \"quantitative\", \"axis\": {\"labels\": false, \"title\": null}, \"field\": \"nominated\"}, \"y\": {\"type\": \"nominal\", \"axis\": {\"title\": null}, \"field\": \"name\", \"sort\": [\"Meryl Streep\", \"Katharine Hepburn\", \"Jack Nicholson\", \"Bette Davis\", \"Spencer Tracy\", \"Paul Newman\", \"Laurence Olivier\", \"Jack Lemmon\", \"Denzel Washington\", \"Marlon Brando\", \"Al Pacino\", \"Geraldine Page\", \"Peter O'Toole\", \"Ingrid Bergman\", \"Dustin Hoffman\", \"Robert De Niro\", \"Jane Fonda\", \"Cate Blanchett\", \"Kate Winslet\", \"Greer Garson\", \"Robert Duvall\", \"Jeff Bridges\", \"Judi Dench\", \"Richard Burton\"]}}, \"height\": 800, \"width\": 600}, {\"mark\": {\"type\": \"circle\", \"color\": \"#fdbf11\", \"opacity\": 1, \"size\": 400}, \"encoding\": {\"x\": {\"type\": \"quantitative\", \"field\": \"win\"}, \"y\": {\"type\": \"nominal\", \"axis\": {\"title\": null}, \"field\": \"name\", \"sort\": [\"Meryl Streep\", \"Katharine Hepburn\", \"Jack Nicholson\", \"Bette Davis\", \"Spencer Tracy\", \"Paul Newman\", \"Laurence Olivier\", \"Jack Lemmon\", \"Denzel Washington\", \"Marlon Brando\", \"Al Pacino\", \"Geraldine Page\", \"Peter O'Toole\", \"Ingrid Bergman\", \"Dustin Hoffman\", \"Robert De Niro\", \"Jane Fonda\", \"Cate Blanchett\", \"Kate Winslet\", \"Greer Garson\", \"Robert Duvall\", \"Jeff Bridges\", \"Judi Dench\", \"Richard Burton\"]}}, \"height\": 800, \"width\": 600}, {\"mark\": {\"type\": \"text\", \"color\": \"white\", \"font\": \"Open Sans\"}, \"encoding\": {\"text\": {\"type\": \"quantitative\", \"field\": \"win_count\"}, \"x\": {\"type\": \"quantitative\", \"field\": \"max_win\"}, \"y\": {\"type\": \"nominal\", \"axis\": {\"title\": null}, \"field\": \"name\", \"sort\": [\"Meryl Streep\", \"Katharine Hepburn\", \"Jack Nicholson\", \"Bette Davis\", \"Spencer Tracy\", \"Paul Newman\", \"Laurence Olivier\", \"Jack Lemmon\", \"Denzel Washington\", \"Marlon Brando\", \"Al Pacino\", \"Geraldine Page\", \"Peter O'Toole\", \"Ingrid Bergman\", \"Dustin Hoffman\", \"Robert De Niro\", \"Jane Fonda\", \"Cate Blanchett\", \"Kate Winslet\", \"Greer Garson\", \"Robert Duvall\", \"Jeff Bridges\", \"Judi Dench\", \"Richard Burton\"]}}, \"height\": 800, \"transform\": [{\"aggregate\": [{\"op\": \"max\", \"field\": \"win\", \"as\": \"max_win\"}, {\"op\": \"min\", \"field\": \"win\", \"as\": \"min_win\"}], \"groupby\": [\"name\"]}, {\"calculate\": \"((datum.max_win - datum.min_win) + 1)\", \"as\": \"win_count\"}], \"width\": 600}, {\"mark\": {\"type\": \"text\", \"color\": \"black\", \"font\": \"Open Sans\"}, \"encoding\": {\"text\": {\"type\": \"quantitative\", \"field\": \"nom_count\"}, \"x\": {\"type\": \"quantitative\", \"field\": \"nom_label\"}, \"y\": {\"type\": \"nominal\", \"axis\": {\"title\": null}, \"field\": \"name\", \"sort\": [\"Meryl Streep\", \"Katharine Hepburn\", \"Jack Nicholson\", \"Bette Davis\", \"Spencer Tracy\", \"Paul Newman\", \"Laurence Olivier\", \"Jack Lemmon\", \"Denzel Washington\", \"Marlon Brando\", \"Al Pacino\", \"Geraldine Page\", \"Peter O'Toole\", \"Ingrid Bergman\", \"Dustin Hoffman\", \"Robert De Niro\", \"Jane Fonda\", \"Cate Blanchett\", \"Kate Winslet\", \"Greer Garson\", \"Robert Duvall\", \"Jeff Bridges\", \"Judi Dench\", \"Richard Burton\"]}}, \"height\": 800, \"transform\": [{\"aggregate\": [{\"op\": \"max\", \"field\": \"nominated\", \"as\": \"max_nom\"}, {\"op\": \"min\", \"field\": \"nominated\", \"as\": \"min_nom\"}], \"groupby\": [\"name\"]}, {\"calculate\": \"((datum.max_nom - datum.min_nom) + 1)\", \"as\": \"nom_count\"}, {\"calculate\": \"(((datum.max_nom - datum.min_nom) + 1) + 1)\", \"as\": \"nom_label\"}], \"width\": 600}], \"data\": {\"name\": \"data-8d51ebcd64d4986b2e1e8882b7d120fc\"}}], \"background\": \"#f5f5f5\", \"padding\": {\"top\": 40, \"left\": 40, \"right\": 40, \"bottom\": 40}, \"$schema\": \"https://vega.github.io/schema/vega-lite/v4.0.2.json\", \"datasets\": {\"data-aaebb2c2e2957ecc6b481a0e570abedd\": [{\"text\": \"Oscar: The Most nominated actors\"}], \"data-d34c81d64268455a0743c5e327fd7b52\": [{\"x\": 2, \"text\": \"nominated\"}, {\"x\": 6, \"text\": \"winner\"}], \"data-8d51ebcd64d4986b2e1e8882b7d120fc\": [{\"nominated\": 1, \"name\": \"Meryl Streep\", \"win\": null}, {\"nominated\": 2, \"name\": \"Meryl Streep\", \"win\": null}, {\"nominated\": 3, \"name\": \"Meryl Streep\", \"win\": null}, {\"nominated\": 4, \"name\": \"Meryl Streep\", \"win\": null}, {\"nominated\": 5, \"name\": \"Meryl Streep\", \"win\": null}, {\"nominated\": 6, \"name\": \"Meryl Streep\", \"win\": null}, {\"nominated\": 7, \"name\": \"Meryl Streep\", \"win\": null}, {\"nominated\": 8, \"name\": \"Meryl Streep\", \"win\": null}, {\"nominated\": 9, \"name\": \"Meryl Streep\", \"win\": null}, {\"nominated\": 10, \"name\": \"Meryl Streep\", \"win\": null}, {\"nominated\": 11, \"name\": \"Meryl Streep\", \"win\": null}, {\"nominated\": 12, \"name\": \"Meryl Streep\", \"win\": null}, {\"nominated\": 13, \"name\": \"Meryl Streep\", \"win\": null}, {\"nominated\": 14, \"name\": \"Meryl Streep\", \"win\": null}, {\"nominated\": 15, \"name\": \"Meryl Streep\", \"win\": null}, {\"nominated\": 16, \"name\": \"Meryl Streep\", \"win\": null}, {\"nominated\": 17, \"name\": \"Meryl Streep\", \"win\": null}, {\"nominated\": 18, \"name\": \"Meryl Streep\", \"win\": null}, {\"nominated\": 19, \"name\": \"Meryl Streep\", \"win\": null}, {\"nominated\": 20, \"name\": \"Meryl Streep\", \"win\": null}, {\"nominated\": 21, \"name\": \"Meryl Streep\", \"win\": null}, {\"nominated\": null, \"name\": \"Meryl Streep\", \"win\": 21}, {\"nominated\": null, \"name\": \"Meryl Streep\", \"win\": 20}, {\"nominated\": null, \"name\": \"Meryl Streep\", \"win\": 19}, {\"nominated\": 1, \"name\": \"Jack Nicholson\", \"win\": null}, {\"nominated\": 2, \"name\": \"Jack Nicholson\", \"win\": null}, {\"nominated\": 3, \"name\": \"Jack Nicholson\", \"win\": null}, {\"nominated\": 4, \"name\": \"Jack Nicholson\", \"win\": null}, {\"nominated\": 5, \"name\": \"Jack Nicholson\", \"win\": null}, {\"nominated\": 6, \"name\": \"Jack Nicholson\", \"win\": null}, {\"nominated\": 7, \"name\": \"Jack Nicholson\", \"win\": null}, {\"nominated\": 8, \"name\": \"Jack Nicholson\", \"win\": null}, {\"nominated\": 9, \"name\": \"Jack Nicholson\", \"win\": null}, {\"nominated\": 10, \"name\": \"Jack Nicholson\", \"win\": null}, {\"nominated\": 11, \"name\": \"Jack Nicholson\", \"win\": null}, {\"nominated\": 12, \"name\": \"Jack Nicholson\", \"win\": null}, {\"nominated\": null, \"name\": \"Jack Nicholson\", \"win\": 12}, {\"nominated\": null, \"name\": \"Jack Nicholson\", \"win\": 11}, {\"nominated\": null, \"name\": \"Jack Nicholson\", \"win\": 10}, {\"nominated\": 1, \"name\": \"Katharine Hepburn\", \"win\": null}, {\"nominated\": 2, \"name\": \"Katharine Hepburn\", \"win\": null}, {\"nominated\": 3, \"name\": \"Katharine Hepburn\", \"win\": null}, {\"nominated\": 4, \"name\": \"Katharine Hepburn\", \"win\": null}, {\"nominated\": 5, \"name\": \"Katharine Hepburn\", \"win\": null}, {\"nominated\": 6, \"name\": \"Katharine Hepburn\", \"win\": null}, {\"nominated\": 7, \"name\": \"Katharine Hepburn\", \"win\": null}, {\"nominated\": 8, \"name\": \"Katharine Hepburn\", \"win\": null}, {\"nominated\": 9, \"name\": \"Katharine Hepburn\", \"win\": null}, {\"nominated\": 10, \"name\": \"Katharine Hepburn\", \"win\": null}, {\"nominated\": 11, \"name\": \"Katharine Hepburn\", \"win\": null}, {\"nominated\": 12, \"name\": \"Katharine Hepburn\", \"win\": null}, {\"nominated\": null, \"name\": \"Katharine Hepburn\", \"win\": 12}, {\"nominated\": null, \"name\": \"Katharine Hepburn\", \"win\": 11}, {\"nominated\": null, \"name\": \"Katharine Hepburn\", \"win\": 10}, {\"nominated\": null, \"name\": \"Katharine Hepburn\", \"win\": 9}, {\"nominated\": 1, \"name\": \"Bette Davis\", \"win\": null}, {\"nominated\": 2, \"name\": \"Bette Davis\", \"win\": null}, {\"nominated\": 3, \"name\": \"Bette Davis\", \"win\": null}, {\"nominated\": 4, \"name\": \"Bette Davis\", \"win\": null}, {\"nominated\": 5, \"name\": \"Bette Davis\", \"win\": null}, {\"nominated\": 6, \"name\": \"Bette Davis\", \"win\": null}, {\"nominated\": 7, \"name\": \"Bette Davis\", \"win\": null}, {\"nominated\": 8, \"name\": \"Bette Davis\", \"win\": null}, {\"nominated\": 9, \"name\": \"Bette Davis\", \"win\": null}, {\"nominated\": 10, \"name\": \"Bette Davis\", \"win\": null}, {\"nominated\": 11, \"name\": \"Bette Davis\", \"win\": null}, {\"nominated\": null, \"name\": \"Bette Davis\", \"win\": 11}, {\"nominated\": null, \"name\": \"Bette Davis\", \"win\": 10}, {\"nominated\": 1, \"name\": \"Paul Newman\", \"win\": null}, {\"nominated\": 2, \"name\": \"Paul Newman\", \"win\": null}, {\"nominated\": 3, \"name\": \"Paul Newman\", \"win\": null}, {\"nominated\": 4, \"name\": \"Paul Newman\", \"win\": null}, {\"nominated\": 5, \"name\": \"Paul Newman\", \"win\": null}, {\"nominated\": 6, \"name\": \"Paul Newman\", \"win\": null}, {\"nominated\": 7, \"name\": \"Paul Newman\", \"win\": null}, {\"nominated\": 8, \"name\": \"Paul Newman\", \"win\": null}, {\"nominated\": 9, \"name\": \"Paul Newman\", \"win\": null}, {\"nominated\": null, \"name\": \"Paul Newman\", \"win\": 9}, {\"nominated\": 1, \"name\": \"Laurence Olivier\", \"win\": null}, {\"nominated\": 2, \"name\": \"Laurence Olivier\", \"win\": null}, {\"nominated\": 3, \"name\": \"Laurence Olivier\", \"win\": null}, {\"nominated\": 4, \"name\": \"Laurence Olivier\", \"win\": null}, {\"nominated\": 5, \"name\": \"Laurence Olivier\", \"win\": null}, {\"nominated\": 6, \"name\": \"Laurence Olivier\", \"win\": null}, {\"nominated\": 7, \"name\": \"Laurence Olivier\", \"win\": null}, {\"nominated\": 8, \"name\": \"Laurence Olivier\", \"win\": null}, {\"nominated\": 9, \"name\": \"Laurence Olivier\", \"win\": null}, {\"nominated\": null, \"name\": \"Laurence Olivier\", \"win\": 9}, {\"nominated\": 1, \"name\": \"Spencer Tracy\", \"win\": null}, {\"nominated\": 2, \"name\": \"Spencer Tracy\", \"win\": null}, {\"nominated\": 3, \"name\": \"Spencer Tracy\", \"win\": null}, {\"nominated\": 4, \"name\": \"Spencer Tracy\", \"win\": null}, {\"nominated\": 5, \"name\": \"Spencer Tracy\", \"win\": null}, {\"nominated\": 6, \"name\": \"Spencer Tracy\", \"win\": null}, {\"nominated\": 7, \"name\": \"Spencer Tracy\", \"win\": null}, {\"nominated\": 8, \"name\": \"Spencer Tracy\", \"win\": null}, {\"nominated\": 9, \"name\": \"Spencer Tracy\", \"win\": null}, {\"nominated\": null, \"name\": \"Spencer Tracy\", \"win\": 9}, {\"nominated\": null, \"name\": \"Spencer Tracy\", \"win\": 8}, {\"nominated\": 1, \"name\": \"Jack Lemmon\", \"win\": null}, {\"nominated\": 2, \"name\": \"Jack Lemmon\", \"win\": null}, {\"nominated\": 3, \"name\": \"Jack Lemmon\", \"win\": null}, {\"nominated\": 4, \"name\": \"Jack Lemmon\", \"win\": null}, {\"nominated\": 5, \"name\": \"Jack Lemmon\", \"win\": null}, {\"nominated\": 6, \"name\": \"Jack Lemmon\", \"win\": null}, {\"nominated\": 7, \"name\": \"Jack Lemmon\", \"win\": null}, {\"nominated\": 8, \"name\": \"Jack Lemmon\", \"win\": null}, {\"nominated\": null, \"name\": \"Jack Lemmon\", \"win\": 8}, {\"nominated\": null, \"name\": \"Jack Lemmon\", \"win\": 7}, {\"nominated\": 1, \"name\": \"Denzel Washington\", \"win\": null}, {\"nominated\": 2, \"name\": \"Denzel Washington\", \"win\": null}, {\"nominated\": 3, \"name\": \"Denzel Washington\", \"win\": null}, {\"nominated\": 4, \"name\": \"Denzel Washington\", \"win\": null}, {\"nominated\": 5, \"name\": \"Denzel Washington\", \"win\": null}, {\"nominated\": 6, \"name\": \"Denzel Washington\", \"win\": null}, {\"nominated\": 7, \"name\": \"Denzel Washington\", \"win\": null}, {\"nominated\": 8, \"name\": \"Denzel Washington\", \"win\": null}, {\"nominated\": null, \"name\": \"Denzel Washington\", \"win\": 8}, {\"nominated\": null, \"name\": \"Denzel Washington\", \"win\": 7}, {\"nominated\": 1, \"name\": \"Al Pacino\", \"win\": null}, {\"nominated\": 2, \"name\": \"Al Pacino\", \"win\": null}, {\"nominated\": 3, \"name\": \"Al Pacino\", \"win\": null}, {\"nominated\": 4, \"name\": \"Al Pacino\", \"win\": null}, {\"nominated\": 5, \"name\": \"Al Pacino\", \"win\": null}, {\"nominated\": 6, \"name\": \"Al Pacino\", \"win\": null}, {\"nominated\": 7, \"name\": \"Al Pacino\", \"win\": null}, {\"nominated\": 8, \"name\": \"Al Pacino\", \"win\": null}, {\"nominated\": null, \"name\": \"Al Pacino\", \"win\": 8}, {\"nominated\": 1, \"name\": \"Peter O'Toole\", \"win\": null}, {\"nominated\": 2, \"name\": \"Peter O'Toole\", \"win\": null}, {\"nominated\": 3, \"name\": \"Peter O'Toole\", \"win\": null}, {\"nominated\": 4, \"name\": \"Peter O'Toole\", \"win\": null}, {\"nominated\": 5, \"name\": \"Peter O'Toole\", \"win\": null}, {\"nominated\": 6, \"name\": \"Peter O'Toole\", \"win\": null}, {\"nominated\": 7, \"name\": \"Peter O'Toole\", \"win\": null}, {\"nominated\": 8, \"name\": \"Peter O'Toole\", \"win\": null}, {\"nominated\": 1, \"name\": \"Marlon Brando\", \"win\": null}, {\"nominated\": 2, \"name\": \"Marlon Brando\", \"win\": null}, {\"nominated\": 3, \"name\": \"Marlon Brando\", \"win\": null}, {\"nominated\": 4, \"name\": \"Marlon Brando\", \"win\": null}, {\"nominated\": 5, \"name\": \"Marlon Brando\", \"win\": null}, {\"nominated\": 6, \"name\": \"Marlon Brando\", \"win\": null}, {\"nominated\": 7, \"name\": \"Marlon Brando\", \"win\": null}, {\"nominated\": 8, \"name\": \"Marlon Brando\", \"win\": null}, {\"nominated\": null, \"name\": \"Marlon Brando\", \"win\": 8}, {\"nominated\": null, \"name\": \"Marlon Brando\", \"win\": 7}, {\"nominated\": 1, \"name\": \"Geraldine Page\", \"win\": null}, {\"nominated\": 2, \"name\": \"Geraldine Page\", \"win\": null}, {\"nominated\": 3, \"name\": \"Geraldine Page\", \"win\": null}, {\"nominated\": 4, \"name\": \"Geraldine Page\", \"win\": null}, {\"nominated\": 5, \"name\": \"Geraldine Page\", \"win\": null}, {\"nominated\": 6, \"name\": \"Geraldine Page\", \"win\": null}, {\"nominated\": 7, \"name\": \"Geraldine Page\", \"win\": null}, {\"nominated\": 8, \"name\": \"Geraldine Page\", \"win\": null}, {\"nominated\": null, \"name\": \"Geraldine Page\", \"win\": 8}, {\"nominated\": 1, \"name\": \"Kate Winslet\", \"win\": null}, {\"nominated\": 2, \"name\": \"Kate Winslet\", \"win\": null}, {\"nominated\": 3, \"name\": \"Kate Winslet\", \"win\": null}, {\"nominated\": 4, \"name\": \"Kate Winslet\", \"win\": null}, {\"nominated\": 5, \"name\": \"Kate Winslet\", \"win\": null}, {\"nominated\": 6, \"name\": \"Kate Winslet\", \"win\": null}, {\"nominated\": 7, \"name\": \"Kate Winslet\", \"win\": null}, {\"nominated\": null, \"name\": \"Kate Winslet\", \"win\": 7}, {\"nominated\": 1, \"name\": \"Greer Garson\", \"win\": null}, {\"nominated\": 2, \"name\": \"Greer Garson\", \"win\": null}, {\"nominated\": 3, \"name\": \"Greer Garson\", \"win\": null}, {\"nominated\": 4, \"name\": \"Greer Garson\", \"win\": null}, {\"nominated\": 5, \"name\": \"Greer Garson\", \"win\": null}, {\"nominated\": 6, \"name\": \"Greer Garson\", \"win\": null}, {\"nominated\": 7, \"name\": \"Greer Garson\", \"win\": null}, {\"nominated\": null, \"name\": \"Greer Garson\", \"win\": 7}, {\"nominated\": 1, \"name\": \"Robert Duvall\", \"win\": null}, {\"nominated\": 2, \"name\": \"Robert Duvall\", \"win\": null}, {\"nominated\": 3, \"name\": \"Robert Duvall\", \"win\": null}, {\"nominated\": 4, \"name\": \"Robert Duvall\", \"win\": null}, {\"nominated\": 5, \"name\": \"Robert Duvall\", \"win\": null}, {\"nominated\": 6, \"name\": \"Robert Duvall\", \"win\": null}, {\"nominated\": 7, \"name\": \"Robert Duvall\", \"win\": null}, {\"nominated\": null, \"name\": \"Robert Duvall\", \"win\": 7}, {\"nominated\": 1, \"name\": \"Jeff Bridges\", \"win\": null}, {\"nominated\": 2, \"name\": \"Jeff Bridges\", \"win\": null}, {\"nominated\": 3, \"name\": \"Jeff Bridges\", \"win\": null}, {\"nominated\": 4, \"name\": \"Jeff Bridges\", \"win\": null}, {\"nominated\": 5, \"name\": \"Jeff Bridges\", \"win\": null}, {\"nominated\": 6, \"name\": \"Jeff Bridges\", \"win\": null}, {\"nominated\": 7, \"name\": \"Jeff Bridges\", \"win\": null}, {\"nominated\": null, \"name\": \"Jeff Bridges\", \"win\": 7}, {\"nominated\": 1, \"name\": \"Judi Dench\", \"win\": null}, {\"nominated\": 2, \"name\": \"Judi Dench\", \"win\": null}, {\"nominated\": 3, \"name\": \"Judi Dench\", \"win\": null}, {\"nominated\": 4, \"name\": \"Judi Dench\", \"win\": null}, {\"nominated\": 5, \"name\": \"Judi Dench\", \"win\": null}, {\"nominated\": 6, \"name\": \"Judi Dench\", \"win\": null}, {\"nominated\": 7, \"name\": \"Judi Dench\", \"win\": null}, {\"nominated\": null, \"name\": \"Judi Dench\", \"win\": 7}, {\"nominated\": 1, \"name\": \"Ingrid Bergman\", \"win\": null}, {\"nominated\": 2, \"name\": \"Ingrid Bergman\", \"win\": null}, {\"nominated\": 3, \"name\": \"Ingrid Bergman\", \"win\": null}, {\"nominated\": 4, \"name\": \"Ingrid Bergman\", \"win\": null}, {\"nominated\": 5, \"name\": \"Ingrid Bergman\", \"win\": null}, {\"nominated\": 6, \"name\": \"Ingrid Bergman\", \"win\": null}, {\"nominated\": 7, \"name\": \"Ingrid Bergman\", \"win\": null}, {\"nominated\": null, \"name\": \"Ingrid Bergman\", \"win\": 7}, {\"nominated\": null, \"name\": \"Ingrid Bergman\", \"win\": 6}, {\"nominated\": null, \"name\": \"Ingrid Bergman\", \"win\": 5}, {\"nominated\": 1, \"name\": \"Richard Burton\", \"win\": null}, {\"nominated\": 2, \"name\": \"Richard Burton\", \"win\": null}, {\"nominated\": 3, \"name\": \"Richard Burton\", \"win\": null}, {\"nominated\": 4, \"name\": \"Richard Burton\", \"win\": null}, {\"nominated\": 5, \"name\": \"Richard Burton\", \"win\": null}, {\"nominated\": 6, \"name\": \"Richard Burton\", \"win\": null}, {\"nominated\": 7, \"name\": \"Richard Burton\", \"win\": null}, {\"nominated\": 1, \"name\": \"Dustin Hoffman\", \"win\": null}, {\"nominated\": 2, \"name\": \"Dustin Hoffman\", \"win\": null}, {\"nominated\": 3, \"name\": \"Dustin Hoffman\", \"win\": null}, {\"nominated\": 4, \"name\": \"Dustin Hoffman\", \"win\": null}, {\"nominated\": 5, \"name\": \"Dustin Hoffman\", \"win\": null}, {\"nominated\": 6, \"name\": \"Dustin Hoffman\", \"win\": null}, {\"nominated\": 7, \"name\": \"Dustin Hoffman\", \"win\": null}, {\"nominated\": null, \"name\": \"Dustin Hoffman\", \"win\": 7}, {\"nominated\": null, \"name\": \"Dustin Hoffman\", \"win\": 6}, {\"nominated\": 1, \"name\": \"Robert De Niro\", \"win\": null}, {\"nominated\": 2, \"name\": \"Robert De Niro\", \"win\": null}, {\"nominated\": 3, \"name\": \"Robert De Niro\", \"win\": null}, {\"nominated\": 4, \"name\": \"Robert De Niro\", \"win\": null}, {\"nominated\": 5, \"name\": \"Robert De Niro\", \"win\": null}, {\"nominated\": 6, \"name\": \"Robert De Niro\", \"win\": null}, {\"nominated\": 7, \"name\": \"Robert De Niro\", \"win\": null}, {\"nominated\": null, \"name\": \"Robert De Niro\", \"win\": 7}, {\"nominated\": null, \"name\": \"Robert De Niro\", \"win\": 6}, {\"nominated\": 1, \"name\": \"Jane Fonda\", \"win\": null}, {\"nominated\": 2, \"name\": \"Jane Fonda\", \"win\": null}, {\"nominated\": 3, \"name\": \"Jane Fonda\", \"win\": null}, {\"nominated\": 4, \"name\": \"Jane Fonda\", \"win\": null}, {\"nominated\": 5, \"name\": \"Jane Fonda\", \"win\": null}, {\"nominated\": 6, \"name\": \"Jane Fonda\", \"win\": null}, {\"nominated\": 7, \"name\": \"Jane Fonda\", \"win\": null}, {\"nominated\": null, \"name\": \"Jane Fonda\", \"win\": 7}, {\"nominated\": null, \"name\": \"Jane Fonda\", \"win\": 6}, {\"nominated\": 1, \"name\": \"Cate Blanchett\", \"win\": null}, {\"nominated\": 2, \"name\": \"Cate Blanchett\", \"win\": null}, {\"nominated\": 3, \"name\": \"Cate Blanchett\", \"win\": null}, {\"nominated\": 4, \"name\": \"Cate Blanchett\", \"win\": null}, {\"nominated\": 5, \"name\": \"Cate Blanchett\", \"win\": null}, {\"nominated\": 6, \"name\": \"Cate Blanchett\", \"win\": null}, {\"nominated\": 7, \"name\": \"Cate Blanchett\", \"win\": null}, {\"nominated\": null, \"name\": \"Cate Blanchett\", \"win\": 7}, {\"nominated\": null, \"name\": \"Cate Blanchett\", \"win\": 6}]}}, {\"mode\": \"vega-lite\"});\n",
              "</script>"
            ]
          },
          "metadata": {
            "tags": []
          },
          "execution_count": 21
        }
      ]
    },
    {
      "cell_type": "code",
      "metadata": {
        "id": "1HbyPBKBbiov",
        "colab_type": "code",
        "outputId": "8d3bd08d-54f6-4a60-c947-8db1c6fbb924",
        "colab": {
          "base_uri": "https://localhost:8080/",
          "height": 1000
        }
      },
      "source": [
        "most_nom_directors"
      ],
      "execution_count": 0,
      "outputs": [
        {
          "output_type": "execute_result",
          "data": {
            "text/plain": [
              "alt.VConcatChart(...)"
            ],
            "text/html": [
              "\n",
              "<div id=\"altair-viz-0ad0ba7b526947808f18ca2d8ce30788\"></div>\n",
              "<script type=\"text/javascript\">\n",
              "  (function(spec, embedOpt){\n",
              "    const outputDiv = document.getElementById(\"altair-viz-0ad0ba7b526947808f18ca2d8ce30788\");\n",
              "    const paths = {\n",
              "      \"vega\": \"https://cdn.jsdelivr.net/npm//vega@5?noext\",\n",
              "      \"vega-lib\": \"https://cdn.jsdelivr.net/npm//vega-lib?noext\",\n",
              "      \"vega-lite\": \"https://cdn.jsdelivr.net/npm//vega-lite@4.0.2?noext\",\n",
              "      \"vega-embed\": \"https://cdn.jsdelivr.net/npm//vega-embed@6?noext\",\n",
              "    };\n",
              "\n",
              "    function loadScript(lib) {\n",
              "      return new Promise(function(resolve, reject) {\n",
              "        var s = document.createElement('script');\n",
              "        s.src = paths[lib];\n",
              "        s.async = true;\n",
              "        s.onload = () => resolve(paths[lib]);\n",
              "        s.onerror = () => reject(`Error loading script: ${paths[lib]}`);\n",
              "        document.getElementsByTagName(\"head\")[0].appendChild(s);\n",
              "      });\n",
              "    }\n",
              "\n",
              "    function showError(err) {\n",
              "      outputDiv.innerHTML = `<div class=\"error\" style=\"color:red;\">${err}</div>`;\n",
              "      throw err;\n",
              "    }\n",
              "\n",
              "    function displayChart(vegaEmbed) {\n",
              "      vegaEmbed(outputDiv, spec, embedOpt)\n",
              "        .catch(err => showError(`Javascript Error: ${err.message}<br>This usually means there's a typo in your chart specification. See the javascript console for the full traceback.`));\n",
              "    }\n",
              "\n",
              "    if(typeof define === \"function\" && define.amd) {\n",
              "      requirejs.config({paths});\n",
              "      require([\"vega-embed\"], displayChart, err => showError(`Error loading script: ${err.message}`));\n",
              "    } else if (typeof vegaEmbed === \"function\") {\n",
              "      displayChart(vegaEmbed);\n",
              "    } else {\n",
              "      loadScript(\"vega\")\n",
              "        .then(() => loadScript(\"vega-lite\"))\n",
              "        .then(() => loadScript(\"vega-embed\"))\n",
              "        .catch(showError)\n",
              "        .then(() => displayChart(vegaEmbed));\n",
              "    }\n",
              "  })({\"config\": {\"view\": {\"continuousWidth\": 400, \"continuousHeight\": 300, \"stroke\": null}, \"axis\": {\"domain\": false, \"grid\": false, \"labelColor\": \"grey\", \"labelFont\": \"Open Sans\", \"labelFontSize\": 12, \"labelPadding\": 10, \"ticks\": false, \"title\": null}, \"axisX\": {\"labels\": false}, \"legend\": {\"title\": null}, \"title\": {\"color\": \"grey\", \"font\": \"Open Sans\", \"fontSize\": 15}}, \"vconcat\": [{\"data\": {\"name\": \"data-14551e41e7b20f28d61552b362759725\"}, \"mark\": {\"type\": \"text\", \"align\": \"left\", \"color\": \"grey\", \"dx\": -25, \"dy\": -10, \"font\": \"Open Sans\", \"size\": 30}, \"encoding\": {\"text\": {\"type\": \"nominal\", \"field\": \"text\"}}}, {\"layer\": [{\"data\": {\"name\": \"data-dbb1d3d2501789105c6d44a17b46d600\"}, \"mark\": {\"type\": \"circle\", \"color\": \"orange\", \"size\": 550}, \"encoding\": {\"x\": {\"type\": \"quantitative\", \"field\": \"x\"}}}, {\"data\": {\"name\": \"data-1eb6099078b6907a3d3583000dcc74da\"}, \"mark\": {\"type\": \"rect\", \"color\": \"grey\"}, \"encoding\": {\"x\": {\"type\": \"quantitative\", \"field\": \"x1\"}, \"x2\": {\"field\": \"x2\"}}}, {\"data\": {\"name\": \"data-aa1f64e9f46f159f1d32c8f47a1a0cad\"}, \"mark\": {\"type\": \"text\", \"align\": \"left\", \"color\": \"grey\", \"dx\": 15, \"font\": \"Open Sans\"}, \"encoding\": {\"text\": {\"type\": \"nominal\", \"field\": \"text\"}, \"x\": {\"type\": \"quantitative\", \"field\": \"x\"}}}]}, {\"layer\": [{\"mark\": {\"type\": \"bar\", \"color\": \"grey\", \"height\": 18}, \"encoding\": {\"x\": {\"type\": \"quantitative\", \"field\": \"nominated\"}, \"y\": {\"type\": \"nominal\", \"field\": \"director\", \"sort\": [\"William Wyler\", \"Billy Wilder\", \"Martin Scorsese\", \"Steven Spielberg\", \"Fred Zinnemann\", \"Woody Allen\", \"Frank Capra\", \"Elia Kazan\", \"David Lean\", \"George Stevens\", \"Michael Curtiz\", \"Mike Nichols\", \"Alfred Hitchcock\", \"John Ford\", \"Clint Eastwood\", \"John Huston\", \"Francis Ford Coppola\", \"George Cukor\", \"Stanley Kubrick\", \"Sidney Lumet\", \"Peter Weir\", \"Clarence Brown\"]}}, \"height\": 800, \"width\": 600}, {\"mark\": {\"type\": \"text\", \"align\": \"right\", \"baseline\": \"middle\", \"color\": \"white\", \"dx\": -3, \"font\": \"Open Sans\"}, \"encoding\": {\"text\": {\"type\": \"quantitative\", \"field\": \"nominated\"}, \"x\": {\"type\": \"quantitative\", \"field\": \"nominated\"}, \"y\": {\"type\": \"nominal\", \"field\": \"director\", \"sort\": [\"William Wyler\", \"Billy Wilder\", \"Martin Scorsese\", \"Steven Spielberg\", \"Fred Zinnemann\", \"Woody Allen\", \"Frank Capra\", \"Elia Kazan\", \"David Lean\", \"George Stevens\", \"Michael Curtiz\", \"Mike Nichols\", \"Alfred Hitchcock\", \"John Ford\", \"Clint Eastwood\", \"John Huston\", \"Francis Ford Coppola\", \"George Cukor\", \"Stanley Kubrick\", \"Sidney Lumet\", \"Peter Weir\", \"Clarence Brown\"]}}, \"height\": 800, \"width\": 600}, {\"mark\": {\"type\": \"text\", \"color\": \"black\", \"font\": \"Open Sans\", \"opacity\": 1}, \"encoding\": {\"text\": {\"type\": \"quantitative\", \"field\": \"win\"}, \"x\": {\"type\": \"quantitative\", \"field\": \"x\"}, \"y\": {\"type\": \"nominal\", \"field\": \"director\", \"sort\": [\"William Wyler\", \"Billy Wilder\", \"Martin Scorsese\", \"Steven Spielberg\", \"Fred Zinnemann\", \"Woody Allen\", \"Frank Capra\", \"Elia Kazan\", \"David Lean\", \"George Stevens\", \"Michael Curtiz\", \"Mike Nichols\", \"Alfred Hitchcock\", \"John Ford\", \"Clint Eastwood\", \"John Huston\", \"Francis Ford Coppola\", \"George Cukor\", \"Stanley Kubrick\", \"Sidney Lumet\", \"Peter Weir\", \"Clarence Brown\"]}}, \"height\": 800, \"transform\": [{\"calculate\": \"(datum.nominated + 0.4)\", \"as\": \"x\"}, {\"filter\": \"datum.win > 0\"}], \"width\": 600}, {\"mark\": {\"type\": \"circle\", \"align\": \"right\", \"baseline\": \"middle\", \"color\": \"orange\", \"size\": 650}, \"encoding\": {\"size\": {\"type\": \"quantitative\", \"field\": \"win\", \"legend\": null, \"scale\": {\"domain\": [1, 3], \"range\": [900, 1400]}}, \"x\": {\"type\": \"quantitative\", \"field\": \"x\"}, \"y\": {\"type\": \"nominal\", \"field\": \"director\", \"sort\": [\"William Wyler\", \"Billy Wilder\", \"Martin Scorsese\", \"Steven Spielberg\", \"Fred Zinnemann\", \"Woody Allen\", \"Frank Capra\", \"Elia Kazan\", \"David Lean\", \"George Stevens\", \"Michael Curtiz\", \"Mike Nichols\", \"Alfred Hitchcock\", \"John Ford\", \"Clint Eastwood\", \"John Huston\", \"Francis Ford Coppola\", \"George Cukor\", \"Stanley Kubrick\", \"Sidney Lumet\", \"Peter Weir\", \"Clarence Brown\"]}}, \"height\": 800, \"transform\": [{\"calculate\": \"(datum.nominated + 0.4)\", \"as\": \"x\"}], \"width\": 600}], \"data\": {\"name\": \"data-ab1361345a072ce2c04c7a467ef56f0c\"}}], \"background\": \"#f5f5f5\", \"padding\": {\"top\": 40, \"left\": 40, \"right\": 40, \"bottom\": 40}, \"$schema\": \"https://vega.github.io/schema/vega-lite/v4.0.2.json\", \"datasets\": {\"data-14551e41e7b20f28d61552b362759725\": [{\"text\": \"Oscar: The Most Nominated Directors\"}], \"data-dbb1d3d2501789105c6d44a17b46d600\": [{\"x\": 2.5, \"text\": \"winner\"}], \"data-1eb6099078b6907a3d3583000dcc74da\": [{\"x1\": 1.3, \"x2\": 0.3, \"text\": \"nominated\"}], \"data-aa1f64e9f46f159f1d32c8f47a1a0cad\": [{\"x\": 1.25, \"text\": \"nominated\"}, {\"x\": 2.5, \"text\": \"winner\"}], \"data-ab1361345a072ce2c04c7a467ef56f0c\": [{\"nominated\": 9, \"win\": 3.0, \"director\": \"William Wyler\"}, {\"nominated\": 8, \"win\": 2.0, \"director\": \"Billy Wilder\"}, {\"nominated\": 8, \"win\": 1.0, \"director\": \"Martin Scorsese\"}, {\"nominated\": 7, \"win\": 2.0, \"director\": \"Fred Zinnemann\"}, {\"nominated\": 7, \"win\": 1.0, \"director\": \"Woody Allen\"}, {\"nominated\": 7, \"win\": 3.0, \"director\": \"Steven Spielberg\"}, {\"nominated\": 6, \"win\": 3.0, \"director\": \"Frank Capra\"}, {\"nominated\": 5, \"win\": 2.0, \"director\": \"Elia Kazan\"}, {\"nominated\": 5, \"win\": 1.0, \"director\": \"Michael Curtiz\"}, {\"nominated\": 5, \"win\": null, \"director\": \"Alfred Hitchcock\"}, {\"nominated\": 5, \"win\": 2.0, \"director\": \"David Lean\"}, {\"nominated\": 5, \"win\": 2.0, \"director\": \"George Stevens\"}, {\"nominated\": 5, \"win\": 1.0, \"director\": \"Mike Nichols\"}, {\"nominated\": 4, \"win\": 2.0, \"director\": \"Clint Eastwood\"}, {\"nominated\": 4, \"win\": null, \"director\": \"Stanley Kubrick\"}, {\"nominated\": 4, \"win\": 1.0, \"director\": \"John Huston\"}, {\"nominated\": 4, \"win\": 1.0, \"director\": \"Francis Ford Coppola\"}, {\"nominated\": 4, \"win\": null, \"director\": \"Sidney Lumet\"}, {\"nominated\": 4, \"win\": null, \"director\": \"Peter Weir\"}, {\"nominated\": 4, \"win\": null, \"director\": \"Clarence Brown\"}, {\"nominated\": 4, \"win\": 3.0, \"director\": \"John Ford\"}, {\"nominated\": 4, \"win\": 1.0, \"director\": \"George Cukor\"}]}}, {\"mode\": \"vega-lite\"});\n",
              "</script>"
            ]
          },
          "metadata": {
            "tags": []
          },
          "execution_count": 22
        }
      ]
    },
    {
      "cell_type": "code",
      "metadata": {
        "id": "Tgh80Fq8b3HQ",
        "colab_type": "code",
        "outputId": "2a4b1fcd-b01f-462a-e39e-88507a6af076",
        "colab": {
          "base_uri": "https://localhost:8080/",
          "height": 1000
        }
      },
      "source": [
        "best_pics"
      ],
      "execution_count": 0,
      "outputs": [
        {
          "output_type": "execute_result",
          "data": {
            "text/plain": [
              "alt.VConcatChart(...)"
            ],
            "text/html": [
              "\n",
              "<div id=\"altair-viz-6481d498d714444ab0ef4edab399ce06\"></div>\n",
              "<script type=\"text/javascript\">\n",
              "  (function(spec, embedOpt){\n",
              "    const outputDiv = document.getElementById(\"altair-viz-6481d498d714444ab0ef4edab399ce06\");\n",
              "    const paths = {\n",
              "      \"vega\": \"https://cdn.jsdelivr.net/npm//vega@5?noext\",\n",
              "      \"vega-lib\": \"https://cdn.jsdelivr.net/npm//vega-lib?noext\",\n",
              "      \"vega-lite\": \"https://cdn.jsdelivr.net/npm//vega-lite@4.0.2?noext\",\n",
              "      \"vega-embed\": \"https://cdn.jsdelivr.net/npm//vega-embed@6?noext\",\n",
              "    };\n",
              "\n",
              "    function loadScript(lib) {\n",
              "      return new Promise(function(resolve, reject) {\n",
              "        var s = document.createElement('script');\n",
              "        s.src = paths[lib];\n",
              "        s.async = true;\n",
              "        s.onload = () => resolve(paths[lib]);\n",
              "        s.onerror = () => reject(`Error loading script: ${paths[lib]}`);\n",
              "        document.getElementsByTagName(\"head\")[0].appendChild(s);\n",
              "      });\n",
              "    }\n",
              "\n",
              "    function showError(err) {\n",
              "      outputDiv.innerHTML = `<div class=\"error\" style=\"color:red;\">${err}</div>`;\n",
              "      throw err;\n",
              "    }\n",
              "\n",
              "    function displayChart(vegaEmbed) {\n",
              "      vegaEmbed(outputDiv, spec, embedOpt)\n",
              "        .catch(err => showError(`Javascript Error: ${err.message}<br>This usually means there's a typo in your chart specification. See the javascript console for the full traceback.`));\n",
              "    }\n",
              "\n",
              "    if(typeof define === \"function\" && define.amd) {\n",
              "      requirejs.config({paths});\n",
              "      require([\"vega-embed\"], displayChart, err => showError(`Error loading script: ${err.message}`));\n",
              "    } else if (typeof vegaEmbed === \"function\") {\n",
              "      displayChart(vegaEmbed);\n",
              "    } else {\n",
              "      loadScript(\"vega\")\n",
              "        .then(() => loadScript(\"vega-lite\"))\n",
              "        .then(() => loadScript(\"vega-embed\"))\n",
              "        .catch(showError)\n",
              "        .then(() => displayChart(vegaEmbed));\n",
              "    }\n",
              "  })({\"config\": {\"view\": {\"continuousWidth\": 400, \"continuousHeight\": 300, \"stroke\": null}, \"axis\": {\"domain\": false, \"labelColor\": \"grey\", \"labelFont\": \"Open Sans\", \"labelFontSize\": 12, \"labelPadding\": 10, \"ticks\": false, \"title\": null}, \"title\": {\"font\": \"Open Sans\"}}, \"vconcat\": [{\"data\": {\"name\": \"data-742560363f2d9c3416cfc3ac2bde8c60\"}, \"mark\": {\"type\": \"text\", \"align\": \"left\", \"color\": \"grey\", \"dx\": -120, \"dy\": -10, \"font\": \"Open Sans\", \"size\": 30}, \"encoding\": {\"text\": {\"type\": \"nominal\", \"field\": \"text\"}}}, {\"layer\": [{\"data\": {\"name\": \"data-4acf1a3381a81d53521b49d04f8fc6d3\"}, \"mark\": {\"type\": \"rect\", \"color\": \"red\", \"dy\": 10, \"height\": 10}, \"encoding\": {\"x\": {\"type\": \"quantitative\", \"axis\": {\"grid\": false, \"labels\": false}, \"field\": \"x1\"}, \"x2\": {\"field\": \"x2\"}}}, {\"data\": {\"name\": \"data-3ad982df61389a4ad97d1e1c2ff0dcf6\"}, \"mark\": {\"type\": \"rect\", \"color\": \"black\", \"height\": 10}, \"encoding\": {\"x\": {\"type\": \"quantitative\", \"axis\": {\"grid\": false, \"labels\": false}, \"field\": \"x1\", \"scale\": {\"range\": [-50, 470]}}, \"x2\": {\"field\": \"x2\"}}}, {\"data\": {\"name\": \"data-0ab3f5b04cd24448e35033e8a0640a2c\"}, \"mark\": {\"type\": \"text\", \"align\": \"left\", \"color\": \"grey\", \"dx\": 10, \"dy\": -10, \"font\": \"Open Sans\"}, \"encoding\": {\"text\": {\"type\": \"nominal\", \"field\": \"text\"}, \"x\": {\"type\": \"quantitative\", \"field\": \"x\"}}}]}, {\"layer\": [{\"mark\": {\"type\": \"bar\", \"color\": \"black\", \"height\": 10}, \"encoding\": {\"x\": {\"type\": \"quantitative\", \"axis\": {}, \"field\": \"box_office\", \"scale\": {\"type\": \"log\"}}, \"y\": {\"type\": \"nominal\", \"field\": \"year\", \"sort\": {\"field\": \"year\", \"order\": \"descending\"}}}, \"height\": 800, \"width\": 600}, {\"mark\": {\"type\": \"bar\", \"color\": \"red\", \"height\": 10}, \"encoding\": {\"x\": {\"type\": \"quantitative\", \"field\": \"budget\", \"scale\": {\"type\": \"log\"}}, \"y\": {\"type\": \"nominal\", \"field\": \"year\"}}, \"height\": 800, \"width\": 600}, {\"mark\": {\"type\": \"circle\", \"color\": \"orange\", \"opacity\": 1}, \"encoding\": {\"size\": {\"type\": \"quantitative\", \"field\": \"rating\", \"legend\": {\"direction\": \"horizontal\", \"legendX\": 225, \"legendY\": 30, \"orient\": \"none\", \"title\": null}, \"scale\": {\"domain\": [7, 9], \"range\": [150, 800]}}, \"tooltip\": [{\"type\": \"nominal\", \"field\": \"entity\"}, {\"type\": \"nominal\", \"field\": \"year\"}, {\"type\": \"quantitative\", \"field\": \"box_office\"}, {\"type\": \"quantitative\", \"field\": \"budget\"}, {\"type\": \"nominal\", \"field\": \"rating\"}], \"x\": {\"type\": \"quantitative\", \"axis\": {\"format\": \"$~s\", \"values\": [1000000, 3000000, 10000000, 30000000, 100000000, 300000000, 1000000000, 3000000000]}, \"field\": \"box_office\", \"scale\": {\"type\": \"log\"}}, \"y\": {\"type\": \"nominal\", \"field\": \"year\"}}, \"height\": 800, \"width\": 600}, {\"mark\": {\"type\": \"text\", \"align\": \"left\", \"color\": \"grey\", \"dx\": -520, \"font\": \"Open Sans\", \"size\": 12}, \"encoding\": {\"text\": {\"type\": \"nominal\", \"field\": \"entity\"}, \"y\": {\"type\": \"nominal\", \"field\": \"year\"}}, \"height\": 800, \"width\": 600}], \"data\": {\"name\": \"data-62da0470fd1a18029e9c94f56c306162\"}}], \"background\": \"#f5f5f5\", \"padding\": {\"top\": 40, \"left\": 40, \"right\": 40, \"bottom\": 40}, \"$schema\": \"https://vega.github.io/schema/vega-lite/v4.0.2.json\", \"datasets\": {\"data-742560363f2d9c3416cfc3ac2bde8c60\": [{\"text\": \"Oscar: The Best Pictures from 1991 to 2018\"}], \"data-4acf1a3381a81d53521b49d04f8fc6d3\": [{\"x1\": 0, \"x2\": 40, \"text\": \"budget\"}], \"data-3ad982df61389a4ad97d1e1c2ff0dcf6\": [{\"x1\": 80, \"x2\": 120, \"text\": \"box office\"}], \"data-0ab3f5b04cd24448e35033e8a0640a2c\": [{\"x\": 40, \"text\": \"budget\"}, {\"x\": 120, \"text\": \"box office\"}, {\"x\": 350, \"text\": \"IMDB rating\"}], \"data-62da0470fd1a18029e9c94f56c306162\": [{\"entity\": \"Dances With Wolves\", \"year\": 1991, \"budget\": 22000000, \"box_office\": 424200000, \"rating\": 8.0}, {\"entity\": \"The Silence of the Lambs\", \"year\": 1992, \"budget\": 19000000, \"box_office\": 272742922, \"rating\": 8.6}, {\"entity\": \"Unforgiven\", \"year\": 1993, \"budget\": 14400000, \"box_office\": 159157447, \"rating\": 8.2}, {\"entity\": \"Schindler's List\", \"year\": 1994, \"budget\": 22000000, \"box_office\": 221000000, \"rating\": 8.9}, {\"entity\": \"Forrest Gump\", \"year\": 1995, \"budget\": 55000000, \"box_office\": 677945399, \"rating\": 8.8}, {\"entity\": \"Braveheart\", \"year\": 1996, \"budget\": 72000000, \"box_office\": 210409945, \"rating\": 8.3}, {\"entity\": \"The English Patient\", \"year\": 1997, \"budget\": 27000000, \"box_office\": 134700000, \"rating\": 7.4}, {\"entity\": \"Titanic\", \"year\": 1998, \"budget\": 200000000, \"box_office\": 2186772302, \"rating\": 7.8}, {\"entity\": \"Shakespeare in Love\", \"year\": 1999, \"budget\": 25000000, \"box_office\": 289317794, \"rating\": 7.1}, {\"entity\": \"American Beauty\", \"year\": 2000, \"budget\": 15000000, \"box_office\": 226200000, \"rating\": 8.3}, {\"entity\": \"Gladiator\", \"year\": 2001, \"budget\": 103000000, \"box_office\": 457640427, \"rating\": 8.5}, {\"entity\": \"A Beautiful Mind\", \"year\": 2002, \"budget\": 58000000, \"box_office\": 313542341, \"rating\": 8.2}, {\"entity\": \"Chicago\", \"year\": 2003, \"budget\": 45000000, \"box_office\": 306776732, \"rating\": 7.1}, {\"entity\": \"The Lord of the Rings 3\", \"year\": 2004, \"budget\": 94000000, \"box_office\": 1119929521, \"rating\": 8.9}, {\"entity\": \"Million Dollar Baby\", \"year\": 2005, \"budget\": 30000000, \"box_office\": 216763646, \"rating\": 8.1}, {\"entity\": \"Crash\", \"year\": 2006, \"budget\": 6500000, \"box_office\": 98410061, \"rating\": 7.8}, {\"entity\": \"The Departed\", \"year\": 2007, \"budget\": 90000000, \"box_office\": 289847354, \"rating\": 8.5}, {\"entity\": \"No Country for Old Men\", \"year\": 2008, \"budget\": 25000000, \"box_office\": 171627166, \"rating\": 8.1}, {\"entity\": \"Slumdog Millionaire\", \"year\": 2009, \"budget\": 15000000, \"box_office\": 377910544, \"rating\": 8.0}, {\"entity\": \"The Hurt Locker\", \"year\": 2010, \"budget\": 15000000, \"box_office\": 49230772, \"rating\": 7.6}, {\"entity\": \"The King's Speech\", \"year\": 2011, \"budget\": 15000000, \"box_office\": 373700000, \"rating\": 8.0}, {\"entity\": \"The Artist\", \"year\": 2012, \"budget\": 15000000, \"box_office\": 133432856, \"rating\": 7.9}, {\"entity\": \"Argo\", \"year\": 2013, \"budget\": 44500000, \"box_office\": 232325503, \"rating\": 7.7}, {\"entity\": \"12 Years a Slave\", \"year\": 2014, \"budget\": 20000000, \"box_office\": 187733202, \"rating\": 8.1}, {\"entity\": \"Birdman\", \"year\": 2015, \"budget\": 18000000, \"box_office\": 103215094, \"rating\": 7.7}, {\"entity\": \"Spotlight\", \"year\": 2016, \"budget\": 20000000, \"box_office\": 98275238, \"rating\": 8.1}, {\"entity\": \"Moonlight\", \"year\": 2017, \"budget\": 1500000, \"box_office\": 55561162, \"rating\": 7.4}, {\"entity\": \"The Shape of Water\", \"year\": 2018, \"budget\": 19400000, \"box_office\": 195243464, \"rating\": 7.3}]}}, {\"mode\": \"vega-lite\"});\n",
              "</script>"
            ]
          },
          "metadata": {
            "tags": []
          },
          "execution_count": 23
        }
      ]
    },
    {
      "cell_type": "code",
      "metadata": {
        "id": "iWQqbTKzglc7",
        "colab_type": "code",
        "colab": {}
      },
      "source": [
        ""
      ],
      "execution_count": 0,
      "outputs": []
    }
  ]
}